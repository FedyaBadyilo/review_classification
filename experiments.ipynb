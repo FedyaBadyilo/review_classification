{
  "cells": [
    {
      "cell_type": "markdown",
      "metadata": {
        "id": "view-in-github",
        "colab_type": "text"
      },
      "source": [
        "<a href=\"https://colab.research.google.com/github/FedyaBadyilo/review_classification/blob/master/experiments.ipynb\" target=\"_parent\"><img src=\"https://colab.research.google.com/assets/colab-badge.svg\" alt=\"Open In Colab\"/></a>"
      ]
    },
    {
      "cell_type": "code",
      "execution_count": null,
      "metadata": {
        "id": "krTZvFVefenV"
      },
      "outputs": [],
      "source": [
        "!tar -xzvf '/content/drive/MyDrive/greenatom_test_task/aclImdb_v1.tar.gz'"
      ]
    },
    {
      "cell_type": "code",
      "execution_count": 13,
      "metadata": {
        "colab": {
          "base_uri": "https://localhost:8080/"
        },
        "id": "XXjMdRycaklf",
        "outputId": "580124eb-eef2-44ad-caf7-a2bcf0ed4484"
      },
      "outputs": [
        {
          "output_type": "stream",
          "name": "stderr",
          "text": [
            "[nltk_data] Downloading package stopwords to /root/nltk_data...\n",
            "[nltk_data]   Package stopwords is already up-to-date!\n",
            "[nltk_data] Downloading package punkt to /root/nltk_data...\n",
            "[nltk_data]   Package punkt is already up-to-date!\n"
          ]
        }
      ],
      "source": [
        "import warnings\n",
        "import os\n",
        "import re\n",
        "\n",
        "import seaborn as sns\n",
        "import pandas as pd\n",
        "import numpy as np\n",
        "\n",
        "import nltk\n",
        "from nltk.corpus import stopwords\n",
        "from nltk.tokenize import word_tokenize\n",
        "nltk.download('stopwords')\n",
        "nltk.download('punkt')\n",
        "from nltk.tokenize import WordPunctTokenizer\n",
        "from bs4 import BeautifulSoup\n",
        "\n",
        "from sklearn.linear_model import LogisticRegression\n",
        "from sklearn.ensemble import RandomForestClassifier\n",
        "\n",
        "from sklearn.ensemble import RandomForestClassifier\n",
        "from sklearn.feature_extraction.text import TfidfVectorizer\n",
        "from sklearn.metrics import accuracy_score, auc, f1_score, explained_variance_score, roc_curve, classification_report, mean_absolute_error, accuracy_score\n",
        "from sklearn.feature_extraction.text import CountVectorizer, TfidfVectorizer\n",
        "from sklearn.model_selection import train_test_split\n",
        "from sklearn.neural_network import MLPClassifier\n",
        "\n",
        "from gensim.models.word2vec import Word2Vec\n",
        "from gensim.models.fasttext import FastText\n",
        "from gensim.models.callbacks import CallbackAny2Vec\n",
        "from tqdm._tqdm_notebook import tqdm_notebook\n",
        "tqdm_notebook.pandas()\n",
        "\n",
        "from torch import nn\n",
        "from torch.utils.data import Dataset, DataLoader, TensorDataset\n",
        "import torch.nn.functional as F\n",
        "import torch\n",
        "\n",
        "from transformers import BertTokenizer, BertForSequenceClassification, Trainer, TrainingArguments, AutoModelForSequenceClassification, get_scheduler, AdamW, get_cosine_with_hard_restarts_schedule_with_warmup\n",
        "\n",
        "import matplotlib.pyplot as plt\n",
        "%matplotlib inline"
      ]
    },
    {
      "cell_type": "markdown",
      "metadata": {
        "id": "qq39vFYVc0yK"
      },
      "source": [
        "# data import\n",
        "\n",
        "напишем функцию для извечения тренировочных и тествых данных"
      ]
    },
    {
      "cell_type": "code",
      "execution_count": null,
      "metadata": {
        "id": "a3udD642c0SS"
      },
      "outputs": [],
      "source": [
        "def extract_data(root_dir):\n",
        "  labels = ['pos', 'neg']\n",
        "\n",
        "  data_dct = {\n",
        "    'id': [],\n",
        "    'text': [],\n",
        "    'rating': [],\n",
        "    'label': [],\n",
        "    }\n",
        "\n",
        "  for label in labels:\n",
        "      dir_path = os.path.join(root_dir, label)\n",
        "\n",
        "      for filename in os.listdir(dir_path):\n",
        "          file_path = os.path.join(dir_path, filename)\n",
        "          rating_id_split = filename.split('.')[0].split('_')\n",
        "          id, rating = rating_id_split\n",
        "\n",
        "          with open(file_path, 'r', encoding='utf-8') as f:\n",
        "              text = f.read()\n",
        "\n",
        "          data_dct['text'].append(text)\n",
        "          data_dct['label'].append(label)\n",
        "          data_dct['rating'].append(int(rating))\n",
        "          data_dct['id'].append(int(id))\n",
        "\n",
        "  print('data was extracted succesful')\n",
        "\n",
        "  return data_dct"
      ]
    },
    {
      "cell_type": "code",
      "execution_count": null,
      "metadata": {
        "id": "W6q943GtMjPU"
      },
      "outputs": [],
      "source": [
        "root_dir = '/content/aclImdb'"
      ]
    },
    {
      "cell_type": "code",
      "execution_count": null,
      "metadata": {
        "colab": {
          "base_uri": "https://localhost:8080/"
        },
        "id": "lSrzDMNsvYMp",
        "outputId": "084e3dae-f7e8-4d67-c573-8e3e8894a691"
      },
      "outputs": [
        {
          "name": "stdout",
          "output_type": "stream",
          "text": [
            "data was extracted succesful\n",
            "data was extracted succesful\n"
          ]
        }
      ],
      "source": [
        "train_data_dct = extract_data(root_dir + '/train')\n",
        "test_data_dct = extract_data(root_dir + '/test')"
      ]
    },
    {
      "cell_type": "markdown",
      "metadata": {
        "id": "Cja8g41UzdXd"
      },
      "source": [
        "# EDA\n"
      ]
    },
    {
      "cell_type": "code",
      "execution_count": null,
      "metadata": {
        "colab": {
          "base_uri": "https://localhost:8080/",
          "height": 206
        },
        "id": "1WlKh57IzbUZ",
        "outputId": "92e1d783-2e2f-4960-f66c-7382441308a0"
      },
      "outputs": [
        {
          "data": {
            "application/vnd.google.colaboratory.intrinsic+json": {
              "summary": "{\n  \"name\": \"df_train\",\n  \"rows\": 25000,\n  \"fields\": [\n    {\n      \"column\": \"id\",\n      \"properties\": {\n        \"dtype\": \"number\",\n        \"std\": 3608,\n        \"min\": 0,\n        \"max\": 12499,\n        \"num_unique_values\": 12500,\n        \"samples\": [\n          8164,\n          9674,\n          1088\n        ],\n        \"semantic_type\": \"\",\n        \"description\": \"\"\n      }\n    },\n    {\n      \"column\": \"text\",\n      \"properties\": {\n        \"dtype\": \"string\",\n        \"num_unique_values\": 24904,\n        \"samples\": [\n          \"\\\"Prom Night\\\" is a title-only remake of the 1980 slasher flick that starred Jamie Lee Curtis and Leslie Nielsen. This movie takes place in an Oregon town, where Donna (Brittany Snow) is about to go to her senior prom and let herself have some fun after going through some extremely traumatic events in the past few years. She and her friends arrive at the prom, which is taking place in a grand hotel, and try and enjoy what is supposed to be the most fun night of their lives. Little does anyone know, a man from Donna's past, who has haunted her for years, is also at the prom... and is willing to kill anyone in way of his pursuit of her.<br /><br />I'm a fan of the original \\\"Prom Night\\\", so I tried to maintain a little hope in this movie, but I have to admit I was quite disappointed. \\\"Prom Night\\\" suffers from the worst affliction a horror movie could have, and that is predictability. There are absolutely no surprises here, and I felt I had seen everything in this movie done dozens of times, often better, before. What does this equate to for the audience? Boredom. Unless of course you have never seen any horror movies, or are part of the pre-teen crowd, but the majority of the audience will most likely be able to guess nearly everything that is going to happen. The plot is simplistic, but the entire script is void of any type of surprise, twist, atmosphere, or anything, and this really, really hurts the movie because it never really gives the audience anything to sink their teeth into. It all just seemed very bland.<br /><br />A lot of people seem to complain with the fact that this is a PG-13 slasher movie as well, and I understand what they are saying, but I don't think it's impossible to make a good slasher movie with minimal gore. Take Carpenter's \\\"Halloween\\\" for example - little to no on screen violence, but still an extremely frightening and effective movie. You don't need gore to make a film scary, but even had \\\"Prom Night\\\" been gratuitously violent (which it is not, it is very tame), it still would have added little to the movie because there is not much in the script to build on to begin with. The tension and suspense here is mild at best, and I spent most of the movie predicting the outcome of situations, and was correct about 99% of the time. Our characters aren't well written enough either for the audience to make any connection to them, and their by-the-numbers demises are routine and careless.<br /><br />I will point out a few things I did like about this movie, though, because it wasn't completely useless - the cinematography is really nice, and everything was very well-filmed and fairly stylish. Among the \\\"jump\\\" scares (that are for the most part very predictable), there were a few that were kind of clever. The sets for the movie are nice too and the hotel is a neat place for the plot to unfold, however predictable the unfolding may be. As for the acting, it's mediocre at best. Brittany Snow plays the lead decently, but really the rest of the cast doesn't show off much talent. Johnathan Schaech plays the villain, and is probably the most experienced performer here, but even he isn't that impressive. However, I did like the character he played, which was a nice change from the typical 'masked-stalker' type killer we see a lot. As far as the ending goes, the last fifteen minutes of the film had me bored to my wit's end and it was very anti-climactic.<br /><br />Overall, \\\"Prom Night\\\" was a disappointment. Everything was very by-the-numbers, routine, and predictable, which is somewhat upsetting considering this had the potential to be a decent slasher movie. There were a few neat moments, but the movie lacked any suspense or atmosphere, and had little plot development, nor believable characters. I'd advise seasoned horror fans to save their money and wait till it's out on video, or rent the original instead, because there are absolutely no surprises here. Some may find a little entertainment in it, but it was far too predictable for my tastes. I expected better, and left the theater very disappointed. 3/10.\",\n          \"This movie is fun to watch , doesnt have much of a plot (well, there isn't a plot), but there are good jokes and situations that you will laugh at. The basic storyline is Cheech is trying to have a nice date, while Chong is partying with Cheech's cousin (They smoke dope , go in a music store, a massage parlor, a comedy club, and even go into someones house they don't even know! Rated R\",\n          \"Following the success of \\\"Paris, Je T'Aime\\\", a group of directors decided to get together and make a similar anthology style film based in New York. Unlike the original film, the stories in this film seem to sometimes come and go too quickly--by the time you think are getting into a story, it's over in too many cases. And, the often start up and stop and then begin again--with the stories woven together. As a result, there is no title to indicate that a story is complete and it is less formal in structure.<br /><br />Sadly, however, while \\\"Paris, Je T'Aime\\\" was hit or miss (mostly hit), most of \\\"New York, I Love You\\\" was miss. The stories tended to be much more sexual in nature but also far less sweet--and often quite terrible. It was an amazingly dull and uninteresting film with only a few exceptional stories--and perhaps the often depressing music made it seem more so. Now understand, it was good quality music but its somber tone really, really made me feel like cutting my wrists! Among the better ones was the story about the young man who took a girl in a wheelchair to prom, the couple talking about cheating outside a restaurant (though this was also in the first film) and the crotchety old couple. This is all so sad because I had loved the first film so much--and I really WANTED to love this film. I respected what they tried but simply didn't like it very much.<br /><br />By the way, and this is NOT really a complaint, but I was amazed how many people were smoking in the film. For a recent film, that was unusual in our more anti-smoking culture.<br /><br />Also, if you get the DVD, there are two segments included as extras that were not included in the film. One consists of Kevin Bacon (wearing a cool fedora) eating a hotdog....and absolutely NOTHING more for almost ten minutes. The other features a teen who spends the film videotaping the world--including a very unhappy couple.\"\n        ],\n        \"semantic_type\": \"\",\n        \"description\": \"\"\n      }\n    },\n    {\n      \"column\": \"rating\",\n      \"properties\": {\n        \"dtype\": \"number\",\n        \"std\": 3,\n        \"min\": 1,\n        \"max\": 10,\n        \"num_unique_values\": 8,\n        \"samples\": [\n          9,\n          1,\n          8\n        ],\n        \"semantic_type\": \"\",\n        \"description\": \"\"\n      }\n    },\n    {\n      \"column\": \"label\",\n      \"properties\": {\n        \"dtype\": \"category\",\n        \"num_unique_values\": 2,\n        \"samples\": [\n          \"neg\",\n          \"pos\"\n        ],\n        \"semantic_type\": \"\",\n        \"description\": \"\"\n      }\n    }\n  ]\n}",
              "type": "dataframe",
              "variable_name": "df_train"
            },
            "text/html": [
              "\n",
              "  <div id=\"df-b2a1712a-d510-4138-bf95-25ec971d878c\" class=\"colab-df-container\">\n",
              "    <div>\n",
              "<style scoped>\n",
              "    .dataframe tbody tr th:only-of-type {\n",
              "        vertical-align: middle;\n",
              "    }\n",
              "\n",
              "    .dataframe tbody tr th {\n",
              "        vertical-align: top;\n",
              "    }\n",
              "\n",
              "    .dataframe thead th {\n",
              "        text-align: right;\n",
              "    }\n",
              "</style>\n",
              "<table border=\"1\" class=\"dataframe\">\n",
              "  <thead>\n",
              "    <tr style=\"text-align: right;\">\n",
              "      <th></th>\n",
              "      <th>id</th>\n",
              "      <th>text</th>\n",
              "      <th>rating</th>\n",
              "      <th>label</th>\n",
              "    </tr>\n",
              "  </thead>\n",
              "  <tbody>\n",
              "    <tr>\n",
              "      <th>0</th>\n",
              "      <td>8375</td>\n",
              "      <td>&lt;br /&gt;&lt;br /&gt;Robot jox is a great little film o...</td>\n",
              "      <td>8</td>\n",
              "      <td>pos</td>\n",
              "    </tr>\n",
              "    <tr>\n",
              "      <th>1</th>\n",
              "      <td>7309</td>\n",
              "      <td>As I mentioned previously, John Carpenter's 19...</td>\n",
              "      <td>9</td>\n",
              "      <td>pos</td>\n",
              "    </tr>\n",
              "    <tr>\n",
              "      <th>2</th>\n",
              "      <td>1575</td>\n",
              "      <td>The van trotta movie rosenstrasse is the best ...</td>\n",
              "      <td>9</td>\n",
              "      <td>pos</td>\n",
              "    </tr>\n",
              "    <tr>\n",
              "      <th>3</th>\n",
              "      <td>816</td>\n",
              "      <td>first, i'd like to say that, while i know my s...</td>\n",
              "      <td>10</td>\n",
              "      <td>pos</td>\n",
              "    </tr>\n",
              "    <tr>\n",
              "      <th>4</th>\n",
              "      <td>11287</td>\n",
              "      <td>As noted by other reviewers this is one of the...</td>\n",
              "      <td>8</td>\n",
              "      <td>pos</td>\n",
              "    </tr>\n",
              "  </tbody>\n",
              "</table>\n",
              "</div>\n",
              "    <div class=\"colab-df-buttons\">\n",
              "\n",
              "  <div class=\"colab-df-container\">\n",
              "    <button class=\"colab-df-convert\" onclick=\"convertToInteractive('df-b2a1712a-d510-4138-bf95-25ec971d878c')\"\n",
              "            title=\"Convert this dataframe to an interactive table.\"\n",
              "            style=\"display:none;\">\n",
              "\n",
              "  <svg xmlns=\"http://www.w3.org/2000/svg\" height=\"24px\" viewBox=\"0 -960 960 960\">\n",
              "    <path d=\"M120-120v-720h720v720H120Zm60-500h600v-160H180v160Zm220 220h160v-160H400v160Zm0 220h160v-160H400v160ZM180-400h160v-160H180v160Zm440 0h160v-160H620v160ZM180-180h160v-160H180v160Zm440 0h160v-160H620v160Z\"/>\n",
              "  </svg>\n",
              "    </button>\n",
              "\n",
              "  <style>\n",
              "    .colab-df-container {\n",
              "      display:flex;\n",
              "      gap: 12px;\n",
              "    }\n",
              "\n",
              "    .colab-df-convert {\n",
              "      background-color: #E8F0FE;\n",
              "      border: none;\n",
              "      border-radius: 50%;\n",
              "      cursor: pointer;\n",
              "      display: none;\n",
              "      fill: #1967D2;\n",
              "      height: 32px;\n",
              "      padding: 0 0 0 0;\n",
              "      width: 32px;\n",
              "    }\n",
              "\n",
              "    .colab-df-convert:hover {\n",
              "      background-color: #E2EBFA;\n",
              "      box-shadow: 0px 1px 2px rgba(60, 64, 67, 0.3), 0px 1px 3px 1px rgba(60, 64, 67, 0.15);\n",
              "      fill: #174EA6;\n",
              "    }\n",
              "\n",
              "    .colab-df-buttons div {\n",
              "      margin-bottom: 4px;\n",
              "    }\n",
              "\n",
              "    [theme=dark] .colab-df-convert {\n",
              "      background-color: #3B4455;\n",
              "      fill: #D2E3FC;\n",
              "    }\n",
              "\n",
              "    [theme=dark] .colab-df-convert:hover {\n",
              "      background-color: #434B5C;\n",
              "      box-shadow: 0px 1px 3px 1px rgba(0, 0, 0, 0.15);\n",
              "      filter: drop-shadow(0px 1px 2px rgba(0, 0, 0, 0.3));\n",
              "      fill: #FFFFFF;\n",
              "    }\n",
              "  </style>\n",
              "\n",
              "    <script>\n",
              "      const buttonEl =\n",
              "        document.querySelector('#df-b2a1712a-d510-4138-bf95-25ec971d878c button.colab-df-convert');\n",
              "      buttonEl.style.display =\n",
              "        google.colab.kernel.accessAllowed ? 'block' : 'none';\n",
              "\n",
              "      async function convertToInteractive(key) {\n",
              "        const element = document.querySelector('#df-b2a1712a-d510-4138-bf95-25ec971d878c');\n",
              "        const dataTable =\n",
              "          await google.colab.kernel.invokeFunction('convertToInteractive',\n",
              "                                                    [key], {});\n",
              "        if (!dataTable) return;\n",
              "\n",
              "        const docLinkHtml = 'Like what you see? Visit the ' +\n",
              "          '<a target=\"_blank\" href=https://colab.research.google.com/notebooks/data_table.ipynb>data table notebook</a>'\n",
              "          + ' to learn more about interactive tables.';\n",
              "        element.innerHTML = '';\n",
              "        dataTable['output_type'] = 'display_data';\n",
              "        await google.colab.output.renderOutput(dataTable, element);\n",
              "        const docLink = document.createElement('div');\n",
              "        docLink.innerHTML = docLinkHtml;\n",
              "        element.appendChild(docLink);\n",
              "      }\n",
              "    </script>\n",
              "  </div>\n",
              "\n",
              "\n",
              "<div id=\"df-529b18f4-8fa3-45d0-9fcc-cd2ff105c3a9\">\n",
              "  <button class=\"colab-df-quickchart\" onclick=\"quickchart('df-529b18f4-8fa3-45d0-9fcc-cd2ff105c3a9')\"\n",
              "            title=\"Suggest charts\"\n",
              "            style=\"display:none;\">\n",
              "\n",
              "<svg xmlns=\"http://www.w3.org/2000/svg\" height=\"24px\"viewBox=\"0 0 24 24\"\n",
              "     width=\"24px\">\n",
              "    <g>\n",
              "        <path d=\"M19 3H5c-1.1 0-2 .9-2 2v14c0 1.1.9 2 2 2h14c1.1 0 2-.9 2-2V5c0-1.1-.9-2-2-2zM9 17H7v-7h2v7zm4 0h-2V7h2v10zm4 0h-2v-4h2v4z\"/>\n",
              "    </g>\n",
              "</svg>\n",
              "  </button>\n",
              "\n",
              "<style>\n",
              "  .colab-df-quickchart {\n",
              "      --bg-color: #E8F0FE;\n",
              "      --fill-color: #1967D2;\n",
              "      --hover-bg-color: #E2EBFA;\n",
              "      --hover-fill-color: #174EA6;\n",
              "      --disabled-fill-color: #AAA;\n",
              "      --disabled-bg-color: #DDD;\n",
              "  }\n",
              "\n",
              "  [theme=dark] .colab-df-quickchart {\n",
              "      --bg-color: #3B4455;\n",
              "      --fill-color: #D2E3FC;\n",
              "      --hover-bg-color: #434B5C;\n",
              "      --hover-fill-color: #FFFFFF;\n",
              "      --disabled-bg-color: #3B4455;\n",
              "      --disabled-fill-color: #666;\n",
              "  }\n",
              "\n",
              "  .colab-df-quickchart {\n",
              "    background-color: var(--bg-color);\n",
              "    border: none;\n",
              "    border-radius: 50%;\n",
              "    cursor: pointer;\n",
              "    display: none;\n",
              "    fill: var(--fill-color);\n",
              "    height: 32px;\n",
              "    padding: 0;\n",
              "    width: 32px;\n",
              "  }\n",
              "\n",
              "  .colab-df-quickchart:hover {\n",
              "    background-color: var(--hover-bg-color);\n",
              "    box-shadow: 0 1px 2px rgba(60, 64, 67, 0.3), 0 1px 3px 1px rgba(60, 64, 67, 0.15);\n",
              "    fill: var(--button-hover-fill-color);\n",
              "  }\n",
              "\n",
              "  .colab-df-quickchart-complete:disabled,\n",
              "  .colab-df-quickchart-complete:disabled:hover {\n",
              "    background-color: var(--disabled-bg-color);\n",
              "    fill: var(--disabled-fill-color);\n",
              "    box-shadow: none;\n",
              "  }\n",
              "\n",
              "  .colab-df-spinner {\n",
              "    border: 2px solid var(--fill-color);\n",
              "    border-color: transparent;\n",
              "    border-bottom-color: var(--fill-color);\n",
              "    animation:\n",
              "      spin 1s steps(1) infinite;\n",
              "  }\n",
              "\n",
              "  @keyframes spin {\n",
              "    0% {\n",
              "      border-color: transparent;\n",
              "      border-bottom-color: var(--fill-color);\n",
              "      border-left-color: var(--fill-color);\n",
              "    }\n",
              "    20% {\n",
              "      border-color: transparent;\n",
              "      border-left-color: var(--fill-color);\n",
              "      border-top-color: var(--fill-color);\n",
              "    }\n",
              "    30% {\n",
              "      border-color: transparent;\n",
              "      border-left-color: var(--fill-color);\n",
              "      border-top-color: var(--fill-color);\n",
              "      border-right-color: var(--fill-color);\n",
              "    }\n",
              "    40% {\n",
              "      border-color: transparent;\n",
              "      border-right-color: var(--fill-color);\n",
              "      border-top-color: var(--fill-color);\n",
              "    }\n",
              "    60% {\n",
              "      border-color: transparent;\n",
              "      border-right-color: var(--fill-color);\n",
              "    }\n",
              "    80% {\n",
              "      border-color: transparent;\n",
              "      border-right-color: var(--fill-color);\n",
              "      border-bottom-color: var(--fill-color);\n",
              "    }\n",
              "    90% {\n",
              "      border-color: transparent;\n",
              "      border-bottom-color: var(--fill-color);\n",
              "    }\n",
              "  }\n",
              "</style>\n",
              "\n",
              "  <script>\n",
              "    async function quickchart(key) {\n",
              "      const quickchartButtonEl =\n",
              "        document.querySelector('#' + key + ' button');\n",
              "      quickchartButtonEl.disabled = true;  // To prevent multiple clicks.\n",
              "      quickchartButtonEl.classList.add('colab-df-spinner');\n",
              "      try {\n",
              "        const charts = await google.colab.kernel.invokeFunction(\n",
              "            'suggestCharts', [key], {});\n",
              "      } catch (error) {\n",
              "        console.error('Error during call to suggestCharts:', error);\n",
              "      }\n",
              "      quickchartButtonEl.classList.remove('colab-df-spinner');\n",
              "      quickchartButtonEl.classList.add('colab-df-quickchart-complete');\n",
              "    }\n",
              "    (() => {\n",
              "      let quickchartButtonEl =\n",
              "        document.querySelector('#df-529b18f4-8fa3-45d0-9fcc-cd2ff105c3a9 button');\n",
              "      quickchartButtonEl.style.display =\n",
              "        google.colab.kernel.accessAllowed ? 'block' : 'none';\n",
              "    })();\n",
              "  </script>\n",
              "</div>\n",
              "    </div>\n",
              "  </div>\n"
            ],
            "text/plain": [
              "      id                                               text  rating label\n",
              "0   8375  <br /><br />Robot jox is a great little film o...       8   pos\n",
              "1   7309  As I mentioned previously, John Carpenter's 19...       9   pos\n",
              "2   1575  The van trotta movie rosenstrasse is the best ...       9   pos\n",
              "3    816  first, i'd like to say that, while i know my s...      10   pos\n",
              "4  11287  As noted by other reviewers this is one of the...       8   pos"
            ]
          },
          "execution_count": 5,
          "metadata": {},
          "output_type": "execute_result"
        }
      ],
      "source": [
        "df_train = pd.DataFrame(train_data_dct)\n",
        "df_train.head()"
      ]
    },
    {
      "cell_type": "code",
      "execution_count": null,
      "metadata": {
        "colab": {
          "base_uri": "https://localhost:8080/"
        },
        "id": "Z5pKnCZHKNb3",
        "outputId": "59b2bd90-d1b8-4be0-ac8f-8b74c1cde7dd"
      },
      "outputs": [
        {
          "name": "stdout",
          "output_type": "stream",
          "text": [
            "<class 'pandas.core.frame.DataFrame'>\n",
            "RangeIndex: 25000 entries, 0 to 24999\n",
            "Data columns (total 4 columns):\n",
            " #   Column  Non-Null Count  Dtype \n",
            "---  ------  --------------  ----- \n",
            " 0   id      25000 non-null  int64 \n",
            " 1   text    25000 non-null  object\n",
            " 2   rating  25000 non-null  int64 \n",
            " 3   label   25000 non-null  object\n",
            "dtypes: int64(2), object(2)\n",
            "memory usage: 781.4+ KB\n"
          ]
        }
      ],
      "source": [
        "df_train.info()"
      ]
    },
    {
      "cell_type": "code",
      "execution_count": null,
      "metadata": {
        "colab": {
          "base_uri": "https://localhost:8080/"
        },
        "id": "opeJlRLzKS0x",
        "outputId": "44d42289-dd21-4aca-ad1a-1680c888bde8"
      },
      "outputs": [
        {
          "data": {
            "text/plain": [
              "(label\n",
              " neg      12500\n",
              " pos      12500\n",
              " Name: count, dtype: int64,\n",
              " rating\n",
              " 1     5100\n",
              " 10    4732\n",
              " 8     3009\n",
              " 4     2696\n",
              " 7     2496\n",
              " 3     2420\n",
              " 2     2284\n",
              " 9     2263\n",
              " Name: count, dtype: int64)"
            ]
          },
          "execution_count": 7,
          "metadata": {},
          "output_type": "execute_result"
        }
      ],
      "source": [
        "df_train[['label']].value_counts(), df_train['rating'].value_counts()"
      ]
    },
    {
      "cell_type": "code",
      "execution_count": null,
      "metadata": {
        "colab": {
          "base_uri": "https://localhost:8080/",
          "height": 206
        },
        "id": "zPxfTV2zzgnn",
        "outputId": "3f6df786-1053-419c-eac8-fd0f7b88e528"
      },
      "outputs": [
        {
          "data": {
            "application/vnd.google.colaboratory.intrinsic+json": {
              "summary": "{\n  \"name\": \"df_test\",\n  \"rows\": 25000,\n  \"fields\": [\n    {\n      \"column\": \"id\",\n      \"properties\": {\n        \"dtype\": \"number\",\n        \"std\": 3608,\n        \"min\": 0,\n        \"max\": 12499,\n        \"num_unique_values\": 12500,\n        \"samples\": [\n          5108,\n          9957,\n          10878\n        ],\n        \"semantic_type\": \"\",\n        \"description\": \"\"\n      }\n    },\n    {\n      \"column\": \"text\",\n      \"properties\": {\n        \"dtype\": \"string\",\n        \"num_unique_values\": 24801,\n        \"samples\": [\n          \"Four or five episodes of Johnnie Socko and his Flying Robot edited together. Amusing giant robot battling giant monsters tale aimed squarely at kids. Parents of course will go crazy since the action is violent with the robot/monster battles resembling professional wrestling and the human on human violence the sort of stuff you'd find in the Al Capone St. Valentine's Day School and Gangster Training Academy. I liked it, but then again I grew up on the series. If there is any problems, other than the \\\"men in suits\\\" effects variety is that the movie plays like a series of episodes stitched together, with a climax coming every 20 minutes. Recommended for those who've run out of Ultraman or Godzilla\",\n          \"Hilary was great as julie, and Pat was once again magnificent as Mr. Miyagi, but there should have been more references towards the other three movies! I mean, come on! First off, Where's Daniel!? Miyagi makes a very brief mention of him and that's it. Daniel was his best friend and should've at least made an appearance in the movie. He could've helped Miyagi train Julie-San! On the flip side, the music stayed true to the movie though, with a little more instrumentation(Fretless Bass)to accompany the wonderfully played Pan-Flute! It doesn't feel like a Karate Kid movie unless you hear that Pan-Flute! Thank you Zamfir! Overall, a decent movie though! We miss you Noriyuki!\",\n          \"This is a very strange product from Hollywood. Apparently it didn't test well because actors who have footage in the credits have been edited completely out of the movie, which means a hasty cut job was done on it. It feels like it was wrestled out of the usually competent Demme's hands, and just thrown away. On the other and it is so totally lacking in substance that maybe nothing could save it. It has no real center, either narratively or time wise. Although it says the running time is 92 minutes, I seem to recall it ending abruptly, around the 80 minute mark. It's over before it even gets going. It's pretty much laugh free.<br /><br />The merits of the \\\"Matthew Modine picture\\\" were as elusive then as the Luke Wilson picture is now.\"\n        ],\n        \"semantic_type\": \"\",\n        \"description\": \"\"\n      }\n    },\n    {\n      \"column\": \"rating\",\n      \"properties\": {\n        \"dtype\": \"number\",\n        \"std\": 3,\n        \"min\": 1,\n        \"max\": 10,\n        \"num_unique_values\": 8,\n        \"samples\": [\n          8,\n          4,\n          10\n        ],\n        \"semantic_type\": \"\",\n        \"description\": \"\"\n      }\n    },\n    {\n      \"column\": \"label\",\n      \"properties\": {\n        \"dtype\": \"category\",\n        \"num_unique_values\": 2,\n        \"samples\": [\n          \"neg\",\n          \"pos\"\n        ],\n        \"semantic_type\": \"\",\n        \"description\": \"\"\n      }\n    }\n  ]\n}",
              "type": "dataframe",
              "variable_name": "df_test"
            },
            "text/html": [
              "\n",
              "  <div id=\"df-5d77b678-fd1d-476b-a430-dc515f0cd473\" class=\"colab-df-container\">\n",
              "    <div>\n",
              "<style scoped>\n",
              "    .dataframe tbody tr th:only-of-type {\n",
              "        vertical-align: middle;\n",
              "    }\n",
              "\n",
              "    .dataframe tbody tr th {\n",
              "        vertical-align: top;\n",
              "    }\n",
              "\n",
              "    .dataframe thead th {\n",
              "        text-align: right;\n",
              "    }\n",
              "</style>\n",
              "<table border=\"1\" class=\"dataframe\">\n",
              "  <thead>\n",
              "    <tr style=\"text-align: right;\">\n",
              "      <th></th>\n",
              "      <th>id</th>\n",
              "      <th>text</th>\n",
              "      <th>rating</th>\n",
              "      <th>label</th>\n",
              "    </tr>\n",
              "  </thead>\n",
              "  <tbody>\n",
              "    <tr>\n",
              "      <th>0</th>\n",
              "      <td>12195</td>\n",
              "      <td>Although this movie doesn't have the darkness ...</td>\n",
              "      <td>10</td>\n",
              "      <td>pos</td>\n",
              "    </tr>\n",
              "    <tr>\n",
              "      <th>1</th>\n",
              "      <td>8375</td>\n",
              "      <td>Its a good film set in Vienna about a cab driv...</td>\n",
              "      <td>8</td>\n",
              "      <td>pos</td>\n",
              "    </tr>\n",
              "    <tr>\n",
              "      <th>2</th>\n",
              "      <td>2286</td>\n",
              "      <td>*Minor spoilers* I just wanted to say that for...</td>\n",
              "      <td>9</td>\n",
              "      <td>pos</td>\n",
              "    </tr>\n",
              "    <tr>\n",
              "      <th>3</th>\n",
              "      <td>46</td>\n",
              "      <td>I have watch this movie almost every night tha...</td>\n",
              "      <td>10</td>\n",
              "      <td>pos</td>\n",
              "    </tr>\n",
              "    <tr>\n",
              "      <th>4</th>\n",
              "      <td>7734</td>\n",
              "      <td>I just cannot believe the low scores for this ...</td>\n",
              "      <td>10</td>\n",
              "      <td>pos</td>\n",
              "    </tr>\n",
              "  </tbody>\n",
              "</table>\n",
              "</div>\n",
              "    <div class=\"colab-df-buttons\">\n",
              "\n",
              "  <div class=\"colab-df-container\">\n",
              "    <button class=\"colab-df-convert\" onclick=\"convertToInteractive('df-5d77b678-fd1d-476b-a430-dc515f0cd473')\"\n",
              "            title=\"Convert this dataframe to an interactive table.\"\n",
              "            style=\"display:none;\">\n",
              "\n",
              "  <svg xmlns=\"http://www.w3.org/2000/svg\" height=\"24px\" viewBox=\"0 -960 960 960\">\n",
              "    <path d=\"M120-120v-720h720v720H120Zm60-500h600v-160H180v160Zm220 220h160v-160H400v160Zm0 220h160v-160H400v160ZM180-400h160v-160H180v160Zm440 0h160v-160H620v160ZM180-180h160v-160H180v160Zm440 0h160v-160H620v160Z\"/>\n",
              "  </svg>\n",
              "    </button>\n",
              "\n",
              "  <style>\n",
              "    .colab-df-container {\n",
              "      display:flex;\n",
              "      gap: 12px;\n",
              "    }\n",
              "\n",
              "    .colab-df-convert {\n",
              "      background-color: #E8F0FE;\n",
              "      border: none;\n",
              "      border-radius: 50%;\n",
              "      cursor: pointer;\n",
              "      display: none;\n",
              "      fill: #1967D2;\n",
              "      height: 32px;\n",
              "      padding: 0 0 0 0;\n",
              "      width: 32px;\n",
              "    }\n",
              "\n",
              "    .colab-df-convert:hover {\n",
              "      background-color: #E2EBFA;\n",
              "      box-shadow: 0px 1px 2px rgba(60, 64, 67, 0.3), 0px 1px 3px 1px rgba(60, 64, 67, 0.15);\n",
              "      fill: #174EA6;\n",
              "    }\n",
              "\n",
              "    .colab-df-buttons div {\n",
              "      margin-bottom: 4px;\n",
              "    }\n",
              "\n",
              "    [theme=dark] .colab-df-convert {\n",
              "      background-color: #3B4455;\n",
              "      fill: #D2E3FC;\n",
              "    }\n",
              "\n",
              "    [theme=dark] .colab-df-convert:hover {\n",
              "      background-color: #434B5C;\n",
              "      box-shadow: 0px 1px 3px 1px rgba(0, 0, 0, 0.15);\n",
              "      filter: drop-shadow(0px 1px 2px rgba(0, 0, 0, 0.3));\n",
              "      fill: #FFFFFF;\n",
              "    }\n",
              "  </style>\n",
              "\n",
              "    <script>\n",
              "      const buttonEl =\n",
              "        document.querySelector('#df-5d77b678-fd1d-476b-a430-dc515f0cd473 button.colab-df-convert');\n",
              "      buttonEl.style.display =\n",
              "        google.colab.kernel.accessAllowed ? 'block' : 'none';\n",
              "\n",
              "      async function convertToInteractive(key) {\n",
              "        const element = document.querySelector('#df-5d77b678-fd1d-476b-a430-dc515f0cd473');\n",
              "        const dataTable =\n",
              "          await google.colab.kernel.invokeFunction('convertToInteractive',\n",
              "                                                    [key], {});\n",
              "        if (!dataTable) return;\n",
              "\n",
              "        const docLinkHtml = 'Like what you see? Visit the ' +\n",
              "          '<a target=\"_blank\" href=https://colab.research.google.com/notebooks/data_table.ipynb>data table notebook</a>'\n",
              "          + ' to learn more about interactive tables.';\n",
              "        element.innerHTML = '';\n",
              "        dataTable['output_type'] = 'display_data';\n",
              "        await google.colab.output.renderOutput(dataTable, element);\n",
              "        const docLink = document.createElement('div');\n",
              "        docLink.innerHTML = docLinkHtml;\n",
              "        element.appendChild(docLink);\n",
              "      }\n",
              "    </script>\n",
              "  </div>\n",
              "\n",
              "\n",
              "<div id=\"df-53070e1a-87e5-49ca-aab7-2e05667666d9\">\n",
              "  <button class=\"colab-df-quickchart\" onclick=\"quickchart('df-53070e1a-87e5-49ca-aab7-2e05667666d9')\"\n",
              "            title=\"Suggest charts\"\n",
              "            style=\"display:none;\">\n",
              "\n",
              "<svg xmlns=\"http://www.w3.org/2000/svg\" height=\"24px\"viewBox=\"0 0 24 24\"\n",
              "     width=\"24px\">\n",
              "    <g>\n",
              "        <path d=\"M19 3H5c-1.1 0-2 .9-2 2v14c0 1.1.9 2 2 2h14c1.1 0 2-.9 2-2V5c0-1.1-.9-2-2-2zM9 17H7v-7h2v7zm4 0h-2V7h2v10zm4 0h-2v-4h2v4z\"/>\n",
              "    </g>\n",
              "</svg>\n",
              "  </button>\n",
              "\n",
              "<style>\n",
              "  .colab-df-quickchart {\n",
              "      --bg-color: #E8F0FE;\n",
              "      --fill-color: #1967D2;\n",
              "      --hover-bg-color: #E2EBFA;\n",
              "      --hover-fill-color: #174EA6;\n",
              "      --disabled-fill-color: #AAA;\n",
              "      --disabled-bg-color: #DDD;\n",
              "  }\n",
              "\n",
              "  [theme=dark] .colab-df-quickchart {\n",
              "      --bg-color: #3B4455;\n",
              "      --fill-color: #D2E3FC;\n",
              "      --hover-bg-color: #434B5C;\n",
              "      --hover-fill-color: #FFFFFF;\n",
              "      --disabled-bg-color: #3B4455;\n",
              "      --disabled-fill-color: #666;\n",
              "  }\n",
              "\n",
              "  .colab-df-quickchart {\n",
              "    background-color: var(--bg-color);\n",
              "    border: none;\n",
              "    border-radius: 50%;\n",
              "    cursor: pointer;\n",
              "    display: none;\n",
              "    fill: var(--fill-color);\n",
              "    height: 32px;\n",
              "    padding: 0;\n",
              "    width: 32px;\n",
              "  }\n",
              "\n",
              "  .colab-df-quickchart:hover {\n",
              "    background-color: var(--hover-bg-color);\n",
              "    box-shadow: 0 1px 2px rgba(60, 64, 67, 0.3), 0 1px 3px 1px rgba(60, 64, 67, 0.15);\n",
              "    fill: var(--button-hover-fill-color);\n",
              "  }\n",
              "\n",
              "  .colab-df-quickchart-complete:disabled,\n",
              "  .colab-df-quickchart-complete:disabled:hover {\n",
              "    background-color: var(--disabled-bg-color);\n",
              "    fill: var(--disabled-fill-color);\n",
              "    box-shadow: none;\n",
              "  }\n",
              "\n",
              "  .colab-df-spinner {\n",
              "    border: 2px solid var(--fill-color);\n",
              "    border-color: transparent;\n",
              "    border-bottom-color: var(--fill-color);\n",
              "    animation:\n",
              "      spin 1s steps(1) infinite;\n",
              "  }\n",
              "\n",
              "  @keyframes spin {\n",
              "    0% {\n",
              "      border-color: transparent;\n",
              "      border-bottom-color: var(--fill-color);\n",
              "      border-left-color: var(--fill-color);\n",
              "    }\n",
              "    20% {\n",
              "      border-color: transparent;\n",
              "      border-left-color: var(--fill-color);\n",
              "      border-top-color: var(--fill-color);\n",
              "    }\n",
              "    30% {\n",
              "      border-color: transparent;\n",
              "      border-left-color: var(--fill-color);\n",
              "      border-top-color: var(--fill-color);\n",
              "      border-right-color: var(--fill-color);\n",
              "    }\n",
              "    40% {\n",
              "      border-color: transparent;\n",
              "      border-right-color: var(--fill-color);\n",
              "      border-top-color: var(--fill-color);\n",
              "    }\n",
              "    60% {\n",
              "      border-color: transparent;\n",
              "      border-right-color: var(--fill-color);\n",
              "    }\n",
              "    80% {\n",
              "      border-color: transparent;\n",
              "      border-right-color: var(--fill-color);\n",
              "      border-bottom-color: var(--fill-color);\n",
              "    }\n",
              "    90% {\n",
              "      border-color: transparent;\n",
              "      border-bottom-color: var(--fill-color);\n",
              "    }\n",
              "  }\n",
              "</style>\n",
              "\n",
              "  <script>\n",
              "    async function quickchart(key) {\n",
              "      const quickchartButtonEl =\n",
              "        document.querySelector('#' + key + ' button');\n",
              "      quickchartButtonEl.disabled = true;  // To prevent multiple clicks.\n",
              "      quickchartButtonEl.classList.add('colab-df-spinner');\n",
              "      try {\n",
              "        const charts = await google.colab.kernel.invokeFunction(\n",
              "            'suggestCharts', [key], {});\n",
              "      } catch (error) {\n",
              "        console.error('Error during call to suggestCharts:', error);\n",
              "      }\n",
              "      quickchartButtonEl.classList.remove('colab-df-spinner');\n",
              "      quickchartButtonEl.classList.add('colab-df-quickchart-complete');\n",
              "    }\n",
              "    (() => {\n",
              "      let quickchartButtonEl =\n",
              "        document.querySelector('#df-53070e1a-87e5-49ca-aab7-2e05667666d9 button');\n",
              "      quickchartButtonEl.style.display =\n",
              "        google.colab.kernel.accessAllowed ? 'block' : 'none';\n",
              "    })();\n",
              "  </script>\n",
              "</div>\n",
              "    </div>\n",
              "  </div>\n"
            ],
            "text/plain": [
              "      id                                               text  rating label\n",
              "0  12195  Although this movie doesn't have the darkness ...      10   pos\n",
              "1   8375  Its a good film set in Vienna about a cab driv...       8   pos\n",
              "2   2286  *Minor spoilers* I just wanted to say that for...       9   pos\n",
              "3     46  I have watch this movie almost every night tha...      10   pos\n",
              "4   7734  I just cannot believe the low scores for this ...      10   pos"
            ]
          },
          "execution_count": 8,
          "metadata": {},
          "output_type": "execute_result"
        }
      ],
      "source": [
        "df_test = pd.DataFrame(test_data_dct)\n",
        "df_test.head()"
      ]
    },
    {
      "cell_type": "code",
      "execution_count": null,
      "metadata": {
        "colab": {
          "base_uri": "https://localhost:8080/"
        },
        "id": "2AesbGiOKXFU",
        "outputId": "9569e031-2877-4d35-be74-2ea710e340a7"
      },
      "outputs": [
        {
          "name": "stdout",
          "output_type": "stream",
          "text": [
            "<class 'pandas.core.frame.DataFrame'>\n",
            "RangeIndex: 25000 entries, 0 to 24999\n",
            "Data columns (total 4 columns):\n",
            " #   Column  Non-Null Count  Dtype \n",
            "---  ------  --------------  ----- \n",
            " 0   id      25000 non-null  int64 \n",
            " 1   text    25000 non-null  object\n",
            " 2   rating  25000 non-null  int64 \n",
            " 3   label   25000 non-null  object\n",
            "dtypes: int64(2), object(2)\n",
            "memory usage: 781.4+ KB\n"
          ]
        }
      ],
      "source": [
        "df_test.info()"
      ]
    },
    {
      "cell_type": "code",
      "execution_count": null,
      "metadata": {
        "colab": {
          "base_uri": "https://localhost:8080/"
        },
        "id": "GYxPoc6yKaCn",
        "outputId": "ac7d4388-f525-4ee2-ae51-003b0f770485"
      },
      "outputs": [
        {
          "data": {
            "text/plain": [
              "(label\n",
              " neg      12500\n",
              " pos      12500\n",
              " Name: count, dtype: int64,\n",
              " rating\n",
              " 1     5022\n",
              " 10    4999\n",
              " 8     2850\n",
              " 4     2635\n",
              " 3     2541\n",
              " 9     2344\n",
              " 7     2307\n",
              " 2     2302\n",
              " Name: count, dtype: int64)"
            ]
          },
          "execution_count": 10,
          "metadata": {},
          "output_type": "execute_result"
        }
      ],
      "source": [
        "df_test[['label']].value_counts(), df_test['rating'].value_counts()"
      ]
    },
    {
      "cell_type": "markdown",
      "metadata": {
        "id": "1Psh_GAHztCa"
      },
      "source": [
        "# Code clean up\n",
        "\n",
        "отчистим тексты от ненужных символов"
      ]
    },
    {
      "cell_type": "code",
      "execution_count": null,
      "metadata": {
        "id": "92k8jFkfzn81"
      },
      "outputs": [],
      "source": [
        "def clean_review(review, remove_stopwords=False):\n",
        "    review = BeautifulSoup(review, \"lxml\").get_text()\n",
        "    review = re.sub(\"@[A-Za-z0-9_]+\",\"\", review)\n",
        "\n",
        "    review = re.sub(\"https?://[^ ]+\",\"\",review)\n",
        "    review = re.sub(\"www.[^ ]+\",\"\",review)\n",
        "\n",
        "    try:\n",
        "        review = review.decode(\"utf-8-sig\")\n",
        "    except:\n",
        "        pass\n",
        "\n",
        "    review.replace(u\"\\ufffd\", \"?\")\n",
        "    review = re.sub(\"[^a-zA-Z]\",\" \", review)\n",
        "    words = WordPunctTokenizer().tokenize(review.lower())\n",
        "\n",
        "    if remove_stopwords:\n",
        "        words = [w for w in words if w not in set(stopwords.words(\"english\"))]\n",
        "\n",
        "    cleaned_review = (\" \".join(words)).strip()\n",
        "\n",
        "    return cleaned_review"
      ]
    },
    {
      "cell_type": "code",
      "execution_count": null,
      "metadata": {
        "colab": {
          "base_uri": "https://localhost:8080/"
        },
        "id": "K4Zj2IyXzxLV",
        "outputId": "42112671-1f48-49ef-9583-a0fda4b3d5fa"
      },
      "outputs": [
        {
          "name": "stderr",
          "output_type": "stream",
          "text": [
            "<ipython-input-11-43ae1c5a2c9e>:3: MarkupResemblesLocatorWarning: The input looks more like a filename than markup. You may want to open this file and pass the filehandle into Beautiful Soup.\n",
            "  review = BeautifulSoup(review, \"lxml\").get_text()\n"
          ]
        }
      ],
      "source": [
        "df_train[\"text\"] = df_train[\"text\"].apply(lambda x: clean_review(x))\n",
        "\n",
        "df_test['text'] = df_test['text'].apply(lambda x: clean_review(x))"
      ]
    },
    {
      "cell_type": "code",
      "execution_count": null,
      "metadata": {
        "colab": {
          "base_uri": "https://localhost:8080/",
          "height": 458
        },
        "id": "fCDt_uxUTRGk",
        "outputId": "8755ea47-fb4e-4ed6-c9d4-c4c4bd0c1890"
      },
      "outputs": [
        {
          "data": {
            "text/html": [
              "<div>\n",
              "<style scoped>\n",
              "    .dataframe tbody tr th:only-of-type {\n",
              "        vertical-align: middle;\n",
              "    }\n",
              "\n",
              "    .dataframe tbody tr th {\n",
              "        vertical-align: top;\n",
              "    }\n",
              "\n",
              "    .dataframe thead th {\n",
              "        text-align: right;\n",
              "    }\n",
              "</style>\n",
              "<table border=\"1\" class=\"dataframe\">\n",
              "  <thead>\n",
              "    <tr style=\"text-align: right;\">\n",
              "      <th></th>\n",
              "      <th>label</th>\n",
              "    </tr>\n",
              "  </thead>\n",
              "  <tbody>\n",
              "    <tr>\n",
              "      <th>0</th>\n",
              "      <td>1</td>\n",
              "    </tr>\n",
              "    <tr>\n",
              "      <th>1</th>\n",
              "      <td>1</td>\n",
              "    </tr>\n",
              "    <tr>\n",
              "      <th>2</th>\n",
              "      <td>1</td>\n",
              "    </tr>\n",
              "    <tr>\n",
              "      <th>3</th>\n",
              "      <td>1</td>\n",
              "    </tr>\n",
              "    <tr>\n",
              "      <th>4</th>\n",
              "      <td>1</td>\n",
              "    </tr>\n",
              "    <tr>\n",
              "      <th>...</th>\n",
              "      <td>...</td>\n",
              "    </tr>\n",
              "    <tr>\n",
              "      <th>24995</th>\n",
              "      <td>0</td>\n",
              "    </tr>\n",
              "    <tr>\n",
              "      <th>24996</th>\n",
              "      <td>0</td>\n",
              "    </tr>\n",
              "    <tr>\n",
              "      <th>24997</th>\n",
              "      <td>0</td>\n",
              "    </tr>\n",
              "    <tr>\n",
              "      <th>24998</th>\n",
              "      <td>0</td>\n",
              "    </tr>\n",
              "    <tr>\n",
              "      <th>24999</th>\n",
              "      <td>0</td>\n",
              "    </tr>\n",
              "  </tbody>\n",
              "</table>\n",
              "<p>25000 rows × 1 columns</p>\n",
              "</div><br><label><b>dtype:</b> int64</label>"
            ],
            "text/plain": [
              "0        1\n",
              "1        1\n",
              "2        1\n",
              "3        1\n",
              "4        1\n",
              "        ..\n",
              "24995    0\n",
              "24996    0\n",
              "24997    0\n",
              "24998    0\n",
              "24999    0\n",
              "Name: label, Length: 25000, dtype: int64"
            ]
          },
          "execution_count": 13,
          "metadata": {},
          "output_type": "execute_result"
        }
      ],
      "source": [
        "df_train['label'].map({'pos': 1, 'neg': 0})\n",
        "df_test['label'].map({'pos': 1, 'neg': 0})"
      ]
    },
    {
      "cell_type": "code",
      "execution_count": null,
      "metadata": {
        "colab": {
          "base_uri": "https://localhost:8080/",
          "height": 143
        },
        "id": "7FQ81BDPJZOw",
        "outputId": "f60ed26d-f79c-4fdb-e630-e224242c1ca5"
      },
      "outputs": [
        {
          "data": {
            "application/vnd.google.colaboratory.intrinsic+json": {
              "summary": "{\n  \"name\": \"df_train\",\n  \"rows\": 25000,\n  \"fields\": [\n    {\n      \"column\": \"id\",\n      \"properties\": {\n        \"dtype\": \"number\",\n        \"std\": 3608,\n        \"min\": 0,\n        \"max\": 12499,\n        \"num_unique_values\": 12500,\n        \"samples\": [\n          8164,\n          9674,\n          1088\n        ],\n        \"semantic_type\": \"\",\n        \"description\": \"\"\n      }\n    },\n    {\n      \"column\": \"text\",\n      \"properties\": {\n        \"dtype\": \"string\",\n        \"num_unique_values\": 24901,\n        \"samples\": [\n          \"felt it was very balanced in showing what jehovahs witnesses have done in protecting american freedoms it also showed the strong faith of two families who were first generation witnesses i also appreciated how it showed how by becoming a jehovahs witness affects non witness family members and how hard it is for them to accept the fact that they don t celebrate holidays the sad part is that non witness families do not think of having their witness family over for family dinners visits or give them gifts at any other times but for holidays or birthdays when it comes to medical care the witnesses want and expect a high standard of medical care what people forget is that blood transfusions allow for sloppy medical care and surgeries whereas bloodless treatments causes the medical team to be highly skilled and trained which would you prefer to treat your loved ones i highly recommend this video\",\n          \"i saw this movie by luck just because i was going through a phase where i had a new found admiration for bill pullman and wanted to see all of his recent movies and thank god i did this movie has stuck with me ever since and remain one of my favorites the story revolves around two girls who embark on a dramatic journey in a foreign country where they ll learn the true meaning of freedom alice and darlene were just trying to spend a vacation together before going to college but their trip ended up a much more complicated story the struggle they go through as they are arrested in thailand and became prisoners is very moving and intense the acting is amazing the images extraordinary the soundtrack is fantastic and so right for the movie and the message transmitted definitely powerful i actually can t even find the right words to describe how this movie makes me feel every time i watch it i know some people haven t appreciated as much as me by the rating the movie has but i swear this one you have to see i promise it will stick with you\",\n          \"the reason why i say this is because i wrote the screenplay and knew very little about it being made until i was asked to see the film i wrote it for some producers who sold it on without telling me because alan dobie was a friend of mine i got to hear about it i had only written a first draft so i was understandably worried when i heard that it was on the floor i asked peter collinson through my agent whether he might like me to do another draft i also asked if i could i see my original script because i had lost it i was told too late so i did the only thing i could do under the circumstances and took my name off i had no idea what they might have done to my screenplay then i was invited to see the finished film i was so impressed that i very quickly asked to have my name put back on it s a beautifully made piece from a hurriedly written first draft i expected to be asked to do much more work on it perhaps if i had it wouldn t be so good i would love to see my original script again if anybody knows where it is i would also love to see the film again i only saw it once in a little viewing theatre in soho\"\n        ],\n        \"semantic_type\": \"\",\n        \"description\": \"\"\n      }\n    },\n    {\n      \"column\": \"rating\",\n      \"properties\": {\n        \"dtype\": \"number\",\n        \"std\": 3,\n        \"min\": 1,\n        \"max\": 10,\n        \"num_unique_values\": 8,\n        \"samples\": [\n          9,\n          1,\n          8\n        ],\n        \"semantic_type\": \"\",\n        \"description\": \"\"\n      }\n    },\n    {\n      \"column\": \"label\",\n      \"properties\": {\n        \"dtype\": \"category\",\n        \"num_unique_values\": 2,\n        \"samples\": [\n          \"neg\",\n          \"pos\"\n        ],\n        \"semantic_type\": \"\",\n        \"description\": \"\"\n      }\n    }\n  ]\n}",
              "type": "dataframe",
              "variable_name": "df_train"
            },
            "text/html": [
              "\n",
              "  <div id=\"df-9bd48340-1181-4db2-97e3-ca6a168e9f45\" class=\"colab-df-container\">\n",
              "    <div>\n",
              "<style scoped>\n",
              "    .dataframe tbody tr th:only-of-type {\n",
              "        vertical-align: middle;\n",
              "    }\n",
              "\n",
              "    .dataframe tbody tr th {\n",
              "        vertical-align: top;\n",
              "    }\n",
              "\n",
              "    .dataframe thead th {\n",
              "        text-align: right;\n",
              "    }\n",
              "</style>\n",
              "<table border=\"1\" class=\"dataframe\">\n",
              "  <thead>\n",
              "    <tr style=\"text-align: right;\">\n",
              "      <th></th>\n",
              "      <th>id</th>\n",
              "      <th>text</th>\n",
              "      <th>rating</th>\n",
              "      <th>label</th>\n",
              "    </tr>\n",
              "  </thead>\n",
              "  <tbody>\n",
              "    <tr>\n",
              "      <th>0</th>\n",
              "      <td>8375</td>\n",
              "      <td>robot jox is a great little film ok some of th...</td>\n",
              "      <td>8</td>\n",
              "      <td>pos</td>\n",
              "    </tr>\n",
              "    <tr>\n",
              "      <th>1</th>\n",
              "      <td>7309</td>\n",
              "      <td>as i mentioned previously john carpenter s cla...</td>\n",
              "      <td>9</td>\n",
              "      <td>pos</td>\n",
              "    </tr>\n",
              "    <tr>\n",
              "      <th>2</th>\n",
              "      <td>1575</td>\n",
              "      <td>the van trotta movie rosenstrasse is the best ...</td>\n",
              "      <td>9</td>\n",
              "      <td>pos</td>\n",
              "    </tr>\n",
              "  </tbody>\n",
              "</table>\n",
              "</div>\n",
              "    <div class=\"colab-df-buttons\">\n",
              "\n",
              "  <div class=\"colab-df-container\">\n",
              "    <button class=\"colab-df-convert\" onclick=\"convertToInteractive('df-9bd48340-1181-4db2-97e3-ca6a168e9f45')\"\n",
              "            title=\"Convert this dataframe to an interactive table.\"\n",
              "            style=\"display:none;\">\n",
              "\n",
              "  <svg xmlns=\"http://www.w3.org/2000/svg\" height=\"24px\" viewBox=\"0 -960 960 960\">\n",
              "    <path d=\"M120-120v-720h720v720H120Zm60-500h600v-160H180v160Zm220 220h160v-160H400v160Zm0 220h160v-160H400v160ZM180-400h160v-160H180v160Zm440 0h160v-160H620v160ZM180-180h160v-160H180v160Zm440 0h160v-160H620v160Z\"/>\n",
              "  </svg>\n",
              "    </button>\n",
              "\n",
              "  <style>\n",
              "    .colab-df-container {\n",
              "      display:flex;\n",
              "      gap: 12px;\n",
              "    }\n",
              "\n",
              "    .colab-df-convert {\n",
              "      background-color: #E8F0FE;\n",
              "      border: none;\n",
              "      border-radius: 50%;\n",
              "      cursor: pointer;\n",
              "      display: none;\n",
              "      fill: #1967D2;\n",
              "      height: 32px;\n",
              "      padding: 0 0 0 0;\n",
              "      width: 32px;\n",
              "    }\n",
              "\n",
              "    .colab-df-convert:hover {\n",
              "      background-color: #E2EBFA;\n",
              "      box-shadow: 0px 1px 2px rgba(60, 64, 67, 0.3), 0px 1px 3px 1px rgba(60, 64, 67, 0.15);\n",
              "      fill: #174EA6;\n",
              "    }\n",
              "\n",
              "    .colab-df-buttons div {\n",
              "      margin-bottom: 4px;\n",
              "    }\n",
              "\n",
              "    [theme=dark] .colab-df-convert {\n",
              "      background-color: #3B4455;\n",
              "      fill: #D2E3FC;\n",
              "    }\n",
              "\n",
              "    [theme=dark] .colab-df-convert:hover {\n",
              "      background-color: #434B5C;\n",
              "      box-shadow: 0px 1px 3px 1px rgba(0, 0, 0, 0.15);\n",
              "      filter: drop-shadow(0px 1px 2px rgba(0, 0, 0, 0.3));\n",
              "      fill: #FFFFFF;\n",
              "    }\n",
              "  </style>\n",
              "\n",
              "    <script>\n",
              "      const buttonEl =\n",
              "        document.querySelector('#df-9bd48340-1181-4db2-97e3-ca6a168e9f45 button.colab-df-convert');\n",
              "      buttonEl.style.display =\n",
              "        google.colab.kernel.accessAllowed ? 'block' : 'none';\n",
              "\n",
              "      async function convertToInteractive(key) {\n",
              "        const element = document.querySelector('#df-9bd48340-1181-4db2-97e3-ca6a168e9f45');\n",
              "        const dataTable =\n",
              "          await google.colab.kernel.invokeFunction('convertToInteractive',\n",
              "                                                    [key], {});\n",
              "        if (!dataTable) return;\n",
              "\n",
              "        const docLinkHtml = 'Like what you see? Visit the ' +\n",
              "          '<a target=\"_blank\" href=https://colab.research.google.com/notebooks/data_table.ipynb>data table notebook</a>'\n",
              "          + ' to learn more about interactive tables.';\n",
              "        element.innerHTML = '';\n",
              "        dataTable['output_type'] = 'display_data';\n",
              "        await google.colab.output.renderOutput(dataTable, element);\n",
              "        const docLink = document.createElement('div');\n",
              "        docLink.innerHTML = docLinkHtml;\n",
              "        element.appendChild(docLink);\n",
              "      }\n",
              "    </script>\n",
              "  </div>\n",
              "\n",
              "\n",
              "<div id=\"df-3a179149-8182-4735-87c0-c0b418f91009\">\n",
              "  <button class=\"colab-df-quickchart\" onclick=\"quickchart('df-3a179149-8182-4735-87c0-c0b418f91009')\"\n",
              "            title=\"Suggest charts\"\n",
              "            style=\"display:none;\">\n",
              "\n",
              "<svg xmlns=\"http://www.w3.org/2000/svg\" height=\"24px\"viewBox=\"0 0 24 24\"\n",
              "     width=\"24px\">\n",
              "    <g>\n",
              "        <path d=\"M19 3H5c-1.1 0-2 .9-2 2v14c0 1.1.9 2 2 2h14c1.1 0 2-.9 2-2V5c0-1.1-.9-2-2-2zM9 17H7v-7h2v7zm4 0h-2V7h2v10zm4 0h-2v-4h2v4z\"/>\n",
              "    </g>\n",
              "</svg>\n",
              "  </button>\n",
              "\n",
              "<style>\n",
              "  .colab-df-quickchart {\n",
              "      --bg-color: #E8F0FE;\n",
              "      --fill-color: #1967D2;\n",
              "      --hover-bg-color: #E2EBFA;\n",
              "      --hover-fill-color: #174EA6;\n",
              "      --disabled-fill-color: #AAA;\n",
              "      --disabled-bg-color: #DDD;\n",
              "  }\n",
              "\n",
              "  [theme=dark] .colab-df-quickchart {\n",
              "      --bg-color: #3B4455;\n",
              "      --fill-color: #D2E3FC;\n",
              "      --hover-bg-color: #434B5C;\n",
              "      --hover-fill-color: #FFFFFF;\n",
              "      --disabled-bg-color: #3B4455;\n",
              "      --disabled-fill-color: #666;\n",
              "  }\n",
              "\n",
              "  .colab-df-quickchart {\n",
              "    background-color: var(--bg-color);\n",
              "    border: none;\n",
              "    border-radius: 50%;\n",
              "    cursor: pointer;\n",
              "    display: none;\n",
              "    fill: var(--fill-color);\n",
              "    height: 32px;\n",
              "    padding: 0;\n",
              "    width: 32px;\n",
              "  }\n",
              "\n",
              "  .colab-df-quickchart:hover {\n",
              "    background-color: var(--hover-bg-color);\n",
              "    box-shadow: 0 1px 2px rgba(60, 64, 67, 0.3), 0 1px 3px 1px rgba(60, 64, 67, 0.15);\n",
              "    fill: var(--button-hover-fill-color);\n",
              "  }\n",
              "\n",
              "  .colab-df-quickchart-complete:disabled,\n",
              "  .colab-df-quickchart-complete:disabled:hover {\n",
              "    background-color: var(--disabled-bg-color);\n",
              "    fill: var(--disabled-fill-color);\n",
              "    box-shadow: none;\n",
              "  }\n",
              "\n",
              "  .colab-df-spinner {\n",
              "    border: 2px solid var(--fill-color);\n",
              "    border-color: transparent;\n",
              "    border-bottom-color: var(--fill-color);\n",
              "    animation:\n",
              "      spin 1s steps(1) infinite;\n",
              "  }\n",
              "\n",
              "  @keyframes spin {\n",
              "    0% {\n",
              "      border-color: transparent;\n",
              "      border-bottom-color: var(--fill-color);\n",
              "      border-left-color: var(--fill-color);\n",
              "    }\n",
              "    20% {\n",
              "      border-color: transparent;\n",
              "      border-left-color: var(--fill-color);\n",
              "      border-top-color: var(--fill-color);\n",
              "    }\n",
              "    30% {\n",
              "      border-color: transparent;\n",
              "      border-left-color: var(--fill-color);\n",
              "      border-top-color: var(--fill-color);\n",
              "      border-right-color: var(--fill-color);\n",
              "    }\n",
              "    40% {\n",
              "      border-color: transparent;\n",
              "      border-right-color: var(--fill-color);\n",
              "      border-top-color: var(--fill-color);\n",
              "    }\n",
              "    60% {\n",
              "      border-color: transparent;\n",
              "      border-right-color: var(--fill-color);\n",
              "    }\n",
              "    80% {\n",
              "      border-color: transparent;\n",
              "      border-right-color: var(--fill-color);\n",
              "      border-bottom-color: var(--fill-color);\n",
              "    }\n",
              "    90% {\n",
              "      border-color: transparent;\n",
              "      border-bottom-color: var(--fill-color);\n",
              "    }\n",
              "  }\n",
              "</style>\n",
              "\n",
              "  <script>\n",
              "    async function quickchart(key) {\n",
              "      const quickchartButtonEl =\n",
              "        document.querySelector('#' + key + ' button');\n",
              "      quickchartButtonEl.disabled = true;  // To prevent multiple clicks.\n",
              "      quickchartButtonEl.classList.add('colab-df-spinner');\n",
              "      try {\n",
              "        const charts = await google.colab.kernel.invokeFunction(\n",
              "            'suggestCharts', [key], {});\n",
              "      } catch (error) {\n",
              "        console.error('Error during call to suggestCharts:', error);\n",
              "      }\n",
              "      quickchartButtonEl.classList.remove('colab-df-spinner');\n",
              "      quickchartButtonEl.classList.add('colab-df-quickchart-complete');\n",
              "    }\n",
              "    (() => {\n",
              "      let quickchartButtonEl =\n",
              "        document.querySelector('#df-3a179149-8182-4735-87c0-c0b418f91009 button');\n",
              "      quickchartButtonEl.style.display =\n",
              "        google.colab.kernel.accessAllowed ? 'block' : 'none';\n",
              "    })();\n",
              "  </script>\n",
              "</div>\n",
              "    </div>\n",
              "  </div>\n"
            ],
            "text/plain": [
              "     id                                               text  rating label\n",
              "0  8375  robot jox is a great little film ok some of th...       8   pos\n",
              "1  7309  as i mentioned previously john carpenter s cla...       9   pos\n",
              "2  1575  the van trotta movie rosenstrasse is the best ...       9   pos"
            ]
          },
          "execution_count": 14,
          "metadata": {},
          "output_type": "execute_result"
        }
      ],
      "source": [
        "df_train.head(3)"
      ]
    },
    {
      "cell_type": "code",
      "execution_count": null,
      "metadata": {
        "colab": {
          "base_uri": "https://localhost:8080/",
          "height": 143
        },
        "id": "hrbM68etRKbx",
        "outputId": "236270af-bc0e-45b7-a8be-444b664a9054"
      },
      "outputs": [
        {
          "data": {
            "application/vnd.google.colaboratory.intrinsic+json": {
              "summary": "{\n  \"name\": \"df_test\",\n  \"rows\": 25000,\n  \"fields\": [\n    {\n      \"column\": \"id\",\n      \"properties\": {\n        \"dtype\": \"number\",\n        \"std\": 3608,\n        \"min\": 0,\n        \"max\": 12499,\n        \"num_unique_values\": 12500,\n        \"samples\": [\n          5108,\n          9957,\n          10878\n        ],\n        \"semantic_type\": \"\",\n        \"description\": \"\"\n      }\n    },\n    {\n      \"column\": \"text\",\n      \"properties\": {\n        \"dtype\": \"string\",\n        \"num_unique_values\": 24799,\n        \"samples\": [\n          \"hello everyone all i have to say is that human traffic and all of its characters are so real its funny i live in australia melbourne and i m finally out of the clubbing and staying out all weekend lifestyle this movie explains everything that is currently going on in the world so exactly that i cant stop watching it i used to be exactly like moff so my friends said and i hadn t even seen the movie i left the weekend partying behind about months ago after years of intense partying to change my life around i was at a dvd store when i saw human traffic and i remember my old friends going on an on about it so i bought it to see what all the fuss was about i was so into it i watched it times in a row because i couldn t believe that someone had made a movie that explains everything to a t anyways this movie is by far the best and funniest movie i have ever seen its funny because its so truthful in everything that goes on in the movie and moff is a legend thats all i have to say enjoy blew my socks off at how real it was its exactly whats going on in the world hr rm i jabber a lottake care everyone\",\n          \"hilary was great as julie and pat was once again magnificent as mr miyagi but there should have been more references towards the other three movies i mean come on first off where s daniel miyagi makes a very brief mention of him and that s it daniel was his best friend and should ve at least made an appearance in the movie he could ve helped miyagi train julie san on the flip side the music stayed true to the movie though with a little more instrumentation fretless bass to accompany the wonderfully played pan flute it doesn t feel like a karate kid movie unless you hear that pan flute thank you zamfir overall a decent movie though we miss you noriyuki\",\n          \"any person claiming this movie to be a ninja classic film must have seen this movie before the middle of the nineties or he was less then years before he s seen it otherwise i can t explain this classic ninja movie title the fight scenes in this movie are just intolerable instead of casting franco nero as the ninja they could hire some experienced martial artist instead in any way the acting skill is not important in that kind of a movie nero s fighting ability is barely of some street fighter in a bar his kicks and punches are lame there s enough of old action movies with good action this is just a waste of time\"\n        ],\n        \"semantic_type\": \"\",\n        \"description\": \"\"\n      }\n    },\n    {\n      \"column\": \"rating\",\n      \"properties\": {\n        \"dtype\": \"number\",\n        \"std\": 3,\n        \"min\": 1,\n        \"max\": 10,\n        \"num_unique_values\": 8,\n        \"samples\": [\n          8,\n          4,\n          10\n        ],\n        \"semantic_type\": \"\",\n        \"description\": \"\"\n      }\n    },\n    {\n      \"column\": \"label\",\n      \"properties\": {\n        \"dtype\": \"category\",\n        \"num_unique_values\": 2,\n        \"samples\": [\n          \"neg\",\n          \"pos\"\n        ],\n        \"semantic_type\": \"\",\n        \"description\": \"\"\n      }\n    }\n  ]\n}",
              "type": "dataframe",
              "variable_name": "df_test"
            },
            "text/html": [
              "\n",
              "  <div id=\"df-2222c83b-dee9-483e-9d18-6c31b5039b67\" class=\"colab-df-container\">\n",
              "    <div>\n",
              "<style scoped>\n",
              "    .dataframe tbody tr th:only-of-type {\n",
              "        vertical-align: middle;\n",
              "    }\n",
              "\n",
              "    .dataframe tbody tr th {\n",
              "        vertical-align: top;\n",
              "    }\n",
              "\n",
              "    .dataframe thead th {\n",
              "        text-align: right;\n",
              "    }\n",
              "</style>\n",
              "<table border=\"1\" class=\"dataframe\">\n",
              "  <thead>\n",
              "    <tr style=\"text-align: right;\">\n",
              "      <th></th>\n",
              "      <th>id</th>\n",
              "      <th>text</th>\n",
              "      <th>rating</th>\n",
              "      <th>label</th>\n",
              "    </tr>\n",
              "  </thead>\n",
              "  <tbody>\n",
              "    <tr>\n",
              "      <th>0</th>\n",
              "      <td>12195</td>\n",
              "      <td>although this movie doesn t have the darkness ...</td>\n",
              "      <td>10</td>\n",
              "      <td>pos</td>\n",
              "    </tr>\n",
              "    <tr>\n",
              "      <th>1</th>\n",
              "      <td>8375</td>\n",
              "      <td>its a good film set in vienna about a cab driv...</td>\n",
              "      <td>8</td>\n",
              "      <td>pos</td>\n",
              "    </tr>\n",
              "    <tr>\n",
              "      <th>2</th>\n",
              "      <td>2286</td>\n",
              "      <td>minor spoilers i just wanted to say that for a...</td>\n",
              "      <td>9</td>\n",
              "      <td>pos</td>\n",
              "    </tr>\n",
              "  </tbody>\n",
              "</table>\n",
              "</div>\n",
              "    <div class=\"colab-df-buttons\">\n",
              "\n",
              "  <div class=\"colab-df-container\">\n",
              "    <button class=\"colab-df-convert\" onclick=\"convertToInteractive('df-2222c83b-dee9-483e-9d18-6c31b5039b67')\"\n",
              "            title=\"Convert this dataframe to an interactive table.\"\n",
              "            style=\"display:none;\">\n",
              "\n",
              "  <svg xmlns=\"http://www.w3.org/2000/svg\" height=\"24px\" viewBox=\"0 -960 960 960\">\n",
              "    <path d=\"M120-120v-720h720v720H120Zm60-500h600v-160H180v160Zm220 220h160v-160H400v160Zm0 220h160v-160H400v160ZM180-400h160v-160H180v160Zm440 0h160v-160H620v160ZM180-180h160v-160H180v160Zm440 0h160v-160H620v160Z\"/>\n",
              "  </svg>\n",
              "    </button>\n",
              "\n",
              "  <style>\n",
              "    .colab-df-container {\n",
              "      display:flex;\n",
              "      gap: 12px;\n",
              "    }\n",
              "\n",
              "    .colab-df-convert {\n",
              "      background-color: #E8F0FE;\n",
              "      border: none;\n",
              "      border-radius: 50%;\n",
              "      cursor: pointer;\n",
              "      display: none;\n",
              "      fill: #1967D2;\n",
              "      height: 32px;\n",
              "      padding: 0 0 0 0;\n",
              "      width: 32px;\n",
              "    }\n",
              "\n",
              "    .colab-df-convert:hover {\n",
              "      background-color: #E2EBFA;\n",
              "      box-shadow: 0px 1px 2px rgba(60, 64, 67, 0.3), 0px 1px 3px 1px rgba(60, 64, 67, 0.15);\n",
              "      fill: #174EA6;\n",
              "    }\n",
              "\n",
              "    .colab-df-buttons div {\n",
              "      margin-bottom: 4px;\n",
              "    }\n",
              "\n",
              "    [theme=dark] .colab-df-convert {\n",
              "      background-color: #3B4455;\n",
              "      fill: #D2E3FC;\n",
              "    }\n",
              "\n",
              "    [theme=dark] .colab-df-convert:hover {\n",
              "      background-color: #434B5C;\n",
              "      box-shadow: 0px 1px 3px 1px rgba(0, 0, 0, 0.15);\n",
              "      filter: drop-shadow(0px 1px 2px rgba(0, 0, 0, 0.3));\n",
              "      fill: #FFFFFF;\n",
              "    }\n",
              "  </style>\n",
              "\n",
              "    <script>\n",
              "      const buttonEl =\n",
              "        document.querySelector('#df-2222c83b-dee9-483e-9d18-6c31b5039b67 button.colab-df-convert');\n",
              "      buttonEl.style.display =\n",
              "        google.colab.kernel.accessAllowed ? 'block' : 'none';\n",
              "\n",
              "      async function convertToInteractive(key) {\n",
              "        const element = document.querySelector('#df-2222c83b-dee9-483e-9d18-6c31b5039b67');\n",
              "        const dataTable =\n",
              "          await google.colab.kernel.invokeFunction('convertToInteractive',\n",
              "                                                    [key], {});\n",
              "        if (!dataTable) return;\n",
              "\n",
              "        const docLinkHtml = 'Like what you see? Visit the ' +\n",
              "          '<a target=\"_blank\" href=https://colab.research.google.com/notebooks/data_table.ipynb>data table notebook</a>'\n",
              "          + ' to learn more about interactive tables.';\n",
              "        element.innerHTML = '';\n",
              "        dataTable['output_type'] = 'display_data';\n",
              "        await google.colab.output.renderOutput(dataTable, element);\n",
              "        const docLink = document.createElement('div');\n",
              "        docLink.innerHTML = docLinkHtml;\n",
              "        element.appendChild(docLink);\n",
              "      }\n",
              "    </script>\n",
              "  </div>\n",
              "\n",
              "\n",
              "<div id=\"df-e12c4f61-8077-437d-ad9f-3ca75b79e925\">\n",
              "  <button class=\"colab-df-quickchart\" onclick=\"quickchart('df-e12c4f61-8077-437d-ad9f-3ca75b79e925')\"\n",
              "            title=\"Suggest charts\"\n",
              "            style=\"display:none;\">\n",
              "\n",
              "<svg xmlns=\"http://www.w3.org/2000/svg\" height=\"24px\"viewBox=\"0 0 24 24\"\n",
              "     width=\"24px\">\n",
              "    <g>\n",
              "        <path d=\"M19 3H5c-1.1 0-2 .9-2 2v14c0 1.1.9 2 2 2h14c1.1 0 2-.9 2-2V5c0-1.1-.9-2-2-2zM9 17H7v-7h2v7zm4 0h-2V7h2v10zm4 0h-2v-4h2v4z\"/>\n",
              "    </g>\n",
              "</svg>\n",
              "  </button>\n",
              "\n",
              "<style>\n",
              "  .colab-df-quickchart {\n",
              "      --bg-color: #E8F0FE;\n",
              "      --fill-color: #1967D2;\n",
              "      --hover-bg-color: #E2EBFA;\n",
              "      --hover-fill-color: #174EA6;\n",
              "      --disabled-fill-color: #AAA;\n",
              "      --disabled-bg-color: #DDD;\n",
              "  }\n",
              "\n",
              "  [theme=dark] .colab-df-quickchart {\n",
              "      --bg-color: #3B4455;\n",
              "      --fill-color: #D2E3FC;\n",
              "      --hover-bg-color: #434B5C;\n",
              "      --hover-fill-color: #FFFFFF;\n",
              "      --disabled-bg-color: #3B4455;\n",
              "      --disabled-fill-color: #666;\n",
              "  }\n",
              "\n",
              "  .colab-df-quickchart {\n",
              "    background-color: var(--bg-color);\n",
              "    border: none;\n",
              "    border-radius: 50%;\n",
              "    cursor: pointer;\n",
              "    display: none;\n",
              "    fill: var(--fill-color);\n",
              "    height: 32px;\n",
              "    padding: 0;\n",
              "    width: 32px;\n",
              "  }\n",
              "\n",
              "  .colab-df-quickchart:hover {\n",
              "    background-color: var(--hover-bg-color);\n",
              "    box-shadow: 0 1px 2px rgba(60, 64, 67, 0.3), 0 1px 3px 1px rgba(60, 64, 67, 0.15);\n",
              "    fill: var(--button-hover-fill-color);\n",
              "  }\n",
              "\n",
              "  .colab-df-quickchart-complete:disabled,\n",
              "  .colab-df-quickchart-complete:disabled:hover {\n",
              "    background-color: var(--disabled-bg-color);\n",
              "    fill: var(--disabled-fill-color);\n",
              "    box-shadow: none;\n",
              "  }\n",
              "\n",
              "  .colab-df-spinner {\n",
              "    border: 2px solid var(--fill-color);\n",
              "    border-color: transparent;\n",
              "    border-bottom-color: var(--fill-color);\n",
              "    animation:\n",
              "      spin 1s steps(1) infinite;\n",
              "  }\n",
              "\n",
              "  @keyframes spin {\n",
              "    0% {\n",
              "      border-color: transparent;\n",
              "      border-bottom-color: var(--fill-color);\n",
              "      border-left-color: var(--fill-color);\n",
              "    }\n",
              "    20% {\n",
              "      border-color: transparent;\n",
              "      border-left-color: var(--fill-color);\n",
              "      border-top-color: var(--fill-color);\n",
              "    }\n",
              "    30% {\n",
              "      border-color: transparent;\n",
              "      border-left-color: var(--fill-color);\n",
              "      border-top-color: var(--fill-color);\n",
              "      border-right-color: var(--fill-color);\n",
              "    }\n",
              "    40% {\n",
              "      border-color: transparent;\n",
              "      border-right-color: var(--fill-color);\n",
              "      border-top-color: var(--fill-color);\n",
              "    }\n",
              "    60% {\n",
              "      border-color: transparent;\n",
              "      border-right-color: var(--fill-color);\n",
              "    }\n",
              "    80% {\n",
              "      border-color: transparent;\n",
              "      border-right-color: var(--fill-color);\n",
              "      border-bottom-color: var(--fill-color);\n",
              "    }\n",
              "    90% {\n",
              "      border-color: transparent;\n",
              "      border-bottom-color: var(--fill-color);\n",
              "    }\n",
              "  }\n",
              "</style>\n",
              "\n",
              "  <script>\n",
              "    async function quickchart(key) {\n",
              "      const quickchartButtonEl =\n",
              "        document.querySelector('#' + key + ' button');\n",
              "      quickchartButtonEl.disabled = true;  // To prevent multiple clicks.\n",
              "      quickchartButtonEl.classList.add('colab-df-spinner');\n",
              "      try {\n",
              "        const charts = await google.colab.kernel.invokeFunction(\n",
              "            'suggestCharts', [key], {});\n",
              "      } catch (error) {\n",
              "        console.error('Error during call to suggestCharts:', error);\n",
              "      }\n",
              "      quickchartButtonEl.classList.remove('colab-df-spinner');\n",
              "      quickchartButtonEl.classList.add('colab-df-quickchart-complete');\n",
              "    }\n",
              "    (() => {\n",
              "      let quickchartButtonEl =\n",
              "        document.querySelector('#df-e12c4f61-8077-437d-ad9f-3ca75b79e925 button');\n",
              "      quickchartButtonEl.style.display =\n",
              "        google.colab.kernel.accessAllowed ? 'block' : 'none';\n",
              "    })();\n",
              "  </script>\n",
              "</div>\n",
              "    </div>\n",
              "  </div>\n"
            ],
            "text/plain": [
              "      id                                               text  rating label\n",
              "0  12195  although this movie doesn t have the darkness ...      10   pos\n",
              "1   8375  its a good film set in vienna about a cab driv...       8   pos\n",
              "2   2286  minor spoilers i just wanted to say that for a...       9   pos"
            ]
          },
          "execution_count": 15,
          "metadata": {},
          "output_type": "execute_result"
        }
      ],
      "source": [
        "df_test.head(3)"
      ]
    },
    {
      "cell_type": "code",
      "execution_count": null,
      "metadata": {
        "id": "wqqcCk_QShJm"
      },
      "outputs": [],
      "source": [
        "df_train['label'] = df_train['label'].map({'pos': 1, 'neg': 0})\n",
        "df_test['label'] = df_test['label'].map({'pos': 1, 'neg': 0})"
      ]
    },
    {
      "cell_type": "code",
      "execution_count": null,
      "metadata": {
        "id": "6fRTbiPmrFX7"
      },
      "outputs": [],
      "source": [
        "df = pd.concat([df_train, df_test], axis=0).reset_index(drop=True)"
      ]
    },
    {
      "cell_type": "markdown",
      "source": [
        "посмотрим на распределение длин текста"
      ],
      "metadata": {
        "id": "PncyIQXCP9Zy"
      }
    },
    {
      "cell_type": "code",
      "source": [
        "for label in (0, 1):\n",
        "  sns.histplot(df[df['label'] == label]['text'].apply(lambda x: len(x.split(' '))), bins=50)\n",
        "\n",
        "print(df['text'].apply(lambda x: len(x.split(' '))).mean(), df['text'].apply(lambda x: len(x.split(' '))).std())"
      ],
      "metadata": {
        "colab": {
          "base_uri": "https://localhost:8080/",
          "height": 466
        },
        "id": "b8cR22GpQBIG",
        "outputId": "ec557259-f874-4749-8cb2-fb96281db8ad"
      },
      "execution_count": 9,
      "outputs": [
        {
          "output_type": "stream",
          "name": "stdout",
          "text": [
            "234.11806 173.49098900029847\n"
          ]
        },
        {
          "output_type": "display_data",
          "data": {
            "text/plain": [
              "<Figure size 640x480 with 1 Axes>"
            ],
            "image/png": "[encoded data removed]"
          },
          "metadata": {}
        }
      ]
    },
    {
      "cell_type": "markdown",
      "source": [
        "как видим, распределение длины текста практически не зависит от его отношения к негативному или позитивному лейбл. также видно, что в среднее значения длины текста равняется 234, а стандартное отклонение равно 173. таким образом, в качестве длины вектора в будущем будеи использовать 300."
      ],
      "metadata": {
        "id": "Az0jV1fgQcy6"
      }
    },
    {
      "cell_type": "code",
      "execution_count": null,
      "metadata": {
        "colab": {
          "base_uri": "https://localhost:8080/"
        },
        "id": "xkx4V4klrTom",
        "outputId": "523b132f-7981-4d21-e7a9-bc66dfcc34a6"
      },
      "outputs": [
        {
          "name": "stdout",
          "output_type": "stream",
          "text": [
            "<class 'pandas.core.frame.DataFrame'>\n",
            "Index: 50000 entries, 0 to 24999\n",
            "Data columns (total 4 columns):\n",
            " #   Column  Non-Null Count  Dtype \n",
            "---  ------  --------------  ----- \n",
            " 0   id      50000 non-null  int64 \n",
            " 1   text    50000 non-null  object\n",
            " 2   rating  50000 non-null  int64 \n",
            " 3   label   50000 non-null  int64 \n",
            "dtypes: int64(3), object(1)\n",
            "memory usage: 1.9+ MB\n"
          ]
        }
      ],
      "source": [
        "df.info()"
      ]
    },
    {
      "cell_type": "markdown",
      "source": [
        "переведем значения рейтингов в последовательное ранжирование от 0 до 7"
      ],
      "metadata": {
        "id": "t0v8-LBj4Jss"
      }
    },
    {
      "cell_type": "code",
      "source": [
        "df['rating'] = df['rating'].apply(lambda x: x - 1 if x < 5 else x - 3)"
      ],
      "metadata": {
        "id": "yxWaHgf_JEUw"
      },
      "execution_count": null,
      "outputs": []
    },
    {
      "cell_type": "markdown",
      "metadata": {
        "id": "T4HIF_D2J_mc"
      },
      "source": [
        "сохраним датасеты на гугл диск, чтобы позже с ними работать"
      ]
    },
    {
      "cell_type": "code",
      "execution_count": null,
      "metadata": {
        "id": "3-kBLNQRRKTz"
      },
      "outputs": [],
      "source": [
        "path_dir_to_save = '/content/drive/MyDrive/greenatom_test_task/'"
      ]
    },
    {
      "cell_type": "code",
      "execution_count": null,
      "metadata": {
        "id": "g1sFCpuJJsLe"
      },
      "outputs": [],
      "source": [
        "# df_train.to_csv(path_dir_to_save + 'train', index=False, quoting=3,\n",
        "#                 quotechar='', escapechar='\\\\', encoding='utf-8')\n",
        "# df_test.to_csv(path_dir_to_save + 'test', index=False, quoting=3,\n",
        "#                 quotechar='', escapechar='\\\\', encoding='utf-8')\n",
        "\n",
        "df.to_csv(path_dir_to_save + 'train_test', index=False, quoting=3,\n",
        "         quotechar='', escapechar='\\\\', encoding='utf-8')"
      ]
    },
    {
      "cell_type": "markdown",
      "metadata": {
        "id": "UcXo3DEIq5GJ"
      },
      "source": [
        "# dataset import"
      ]
    },
    {
      "cell_type": "code",
      "source": [
        "path_dir_to_save = '/content/drive/MyDrive/greenatom_test_task/'"
      ],
      "metadata": {
        "id": "G_pMdR9aFEq-"
      },
      "execution_count": 2,
      "outputs": []
    },
    {
      "cell_type": "code",
      "execution_count": 10,
      "metadata": {
        "id": "YYyLdGTOQ-qI"
      },
      "outputs": [],
      "source": [
        "# df_train = pd.read_csv(path_dir_to_save + 'train')\n",
        "df_test = pd.read_csv(path_dir_to_save + 'test')\n",
        "\n",
        "df = pd.read_csv(path_dir_to_save + 'train_test')"
      ]
    },
    {
      "cell_type": "markdown",
      "metadata": {
        "id": "FWxJDb-8RzyA"
      },
      "source": [
        "# data split"
      ]
    },
    {
      "cell_type": "code",
      "execution_count": null,
      "metadata": {
        "id": "Sih4lhazRzRi"
      },
      "outputs": [],
      "source": [
        "X_train, X_test, y_train, y_test = train_test_split(df['text'].values, df['rating'].values, random_state=42, test_size=0.2)"
      ]
    },
    {
      "cell_type": "markdown",
      "metadata": {
        "id": "tsDSpFQNUgLP"
      },
      "source": [
        "# ml approach"
      ]
    },
    {
      "cell_type": "markdown",
      "metadata": {
        "id": "ax-kZijzRvwR"
      },
      "source": [
        "## count vectorizer and tf-idf\n",
        "\n",
        "воспользуемся bag of words методами для векторизации текста"
      ]
    },
    {
      "cell_type": "code",
      "execution_count": null,
      "metadata": {
        "id": "SiK17CXoRyPB"
      },
      "outputs": [],
      "source": [
        "vectorizer = CountVectorizer(analyzer = \"word\",\n",
        "                             tokenizer = None,\n",
        "                             preprocessor = None,\n",
        "                             stop_words = stopwords.words(\"english\"),\n",
        "                             max_features = 5000)"
      ]
    },
    {
      "cell_type": "code",
      "execution_count": null,
      "metadata": {
        "id": "ZMZ9nX1sUxdp"
      },
      "outputs": [],
      "source": [
        "tf = TfidfVectorizer(\n",
        "    stop_words = stopwords.words('english'),\n",
        "    max_features=5000)"
      ]
    },
    {
      "cell_type": "markdown",
      "metadata": {
        "id": "FiLfB1cRRXyz"
      },
      "source": [
        "## logistic regression baseline acc = 0.42"
      ]
    },
    {
      "cell_type": "code",
      "execution_count": null,
      "metadata": {
        "colab": {
          "base_uri": "https://localhost:8080/"
        },
        "id": "IoU1TbBKSJpx",
        "outputId": "f481cf93-dd69-4ad1-9ba1-8a31b0498b70"
      },
      "outputs": [
        {
          "name": "stdout",
          "output_type": "stream",
          "text": [
            "              precision    recall  f1-score   support\n",
            "\n",
            "           1       0.57      0.65      0.60      1998\n",
            "           2       0.21      0.17      0.18       907\n",
            "           3       0.23      0.20      0.21      1018\n",
            "           4       0.27      0.27      0.27      1022\n",
            "           7       0.27      0.25      0.26       958\n",
            "           8       0.24      0.24      0.24      1195\n",
            "           9       0.21      0.17      0.19       931\n",
            "          10       0.51      0.59      0.55      1971\n",
            "\n",
            "    accuracy                           0.38     10000\n",
            "   macro avg       0.31      0.32      0.31     10000\n",
            "weighted avg       0.36      0.38      0.37     10000\n",
            "\n",
            "              precision    recall  f1-score   support\n",
            "\n",
            "           1       0.55      0.78      0.64      1998\n",
            "           2       0.21      0.08      0.12       907\n",
            "           3       0.25      0.17      0.20      1018\n",
            "           4       0.32      0.30      0.31      1022\n",
            "           7       0.31      0.24      0.27       958\n",
            "           8       0.28      0.26      0.27      1195\n",
            "           9       0.27      0.10      0.14       931\n",
            "          10       0.49      0.74      0.59      1971\n",
            "\n",
            "    accuracy                           0.42     10000\n",
            "   macro avg       0.34      0.33      0.32     10000\n",
            "weighted avg       0.37      0.42      0.38     10000\n",
            "\n"
          ]
        }
      ],
      "source": [
        "for transformer in (vectorizer, tf):\n",
        "  X_train_features = transformer.fit_transform(X_train)\n",
        "  model = LogisticRegression(n_jobs=-1).fit(X_train_features, y_train)\n",
        "  y_pred = model.predict(transformer.transform(X_test))\n",
        "  print(classification_report(y_test, y_pred))"
      ]
    },
    {
      "cell_type": "markdown",
      "metadata": {
        "id": "yd9T64UJV3LX"
      },
      "source": [
        "## random forest acc = 0.38"
      ]
    },
    {
      "cell_type": "code",
      "execution_count": null,
      "metadata": {
        "colab": {
          "base_uri": "https://localhost:8080/"
        },
        "id": "p6CurOogVyL2",
        "outputId": "4725dca1-9900-461a-edb9-57c0934537b4"
      },
      "outputs": [
        {
          "name": "stdout",
          "output_type": "stream",
          "text": [
            "              precision    recall  f1-score   support\n",
            "\n",
            "           1       0.41      0.88      0.56      1998\n",
            "           2       0.36      0.03      0.05       907\n",
            "           3       0.31      0.03      0.06      1018\n",
            "           4       0.25      0.08      0.12      1022\n",
            "           7       0.33      0.08      0.12       958\n",
            "           8       0.28      0.10      0.15      1195\n",
            "           9       0.33      0.02      0.04       931\n",
            "          10       0.37      0.84      0.52      1971\n",
            "\n",
            "    accuracy                           0.38     10000\n",
            "   macro avg       0.33      0.26      0.20     10000\n",
            "weighted avg       0.34      0.38      0.27     10000\n",
            "\n",
            "              precision    recall  f1-score   support\n",
            "\n",
            "           1       0.41      0.88      0.56      1998\n",
            "           2       0.53      0.02      0.03       907\n",
            "           3       0.33      0.04      0.07      1018\n",
            "           4       0.29      0.11      0.16      1022\n",
            "           7       0.32      0.07      0.12       958\n",
            "           8       0.25      0.09      0.14      1195\n",
            "           9       0.34      0.01      0.02       931\n",
            "          10       0.37      0.85      0.52      1971\n",
            "\n",
            "    accuracy                           0.38     10000\n",
            "   macro avg       0.36      0.26      0.20     10000\n",
            "weighted avg       0.36      0.38      0.27     10000\n",
            "\n"
          ]
        }
      ],
      "source": [
        "for transformer in (vectorizer, tf):\n",
        "  X_train_features = transformer.fit_transform(X_train)\n",
        "  model = RandomForestClassifier(n_jobs=-1).fit(X_train_features, y_train)\n",
        "  y_pred = model.predict(transformer.transform(X_test))\n",
        "  print(classification_report(y_test, y_pred))"
      ]
    },
    {
      "cell_type": "markdown",
      "metadata": {
        "id": "6txwuBZds6wB"
      },
      "source": [
        "# DL approach"
      ]
    },
    {
      "cell_type": "markdown",
      "metadata": {
        "id": "zYRnohYvs9ad"
      },
      "source": [
        "## w2w + mlp acc = 0.43"
      ]
    },
    {
      "cell_type": "markdown",
      "metadata": {
        "id": "i6UQZhMNNFsK"
      },
      "source": [
        "### w2v train"
      ]
    },
    {
      "cell_type": "markdown",
      "source": [
        "напишем класс для оценки и логирования работы w2v модели в течение обучения"
      ],
      "metadata": {
        "id": "z-tmtj5C4jgi"
      }
    },
    {
      "cell_type": "code",
      "execution_count": null,
      "metadata": {
        "id": "iYYI37Emx55u"
      },
      "outputs": [],
      "source": [
        "class LossLogger(CallbackAny2Vec):\n",
        "    def __init__(self):\n",
        "        self.epoch = 0\n",
        "\n",
        "    def on_epoch_end(self, model):\n",
        "        loss = model.get_latest_training_loss()\n",
        "        if self.epoch == 0:\n",
        "            print('Loss after epoch {}: {}'.format(self.epoch, loss))\n",
        "        else:\n",
        "            print('Loss after epoch {}: {}'.format(self.epoch, loss - self.loss_previous_step))\n",
        "        self.epoch += 1\n",
        "        self.loss_previous_step = loss\n",
        "\n",
        "class EpochLogger(CallbackAny2Vec):\n",
        "    def __init__(self):\n",
        "        self.epoch = 0\n",
        "\n",
        "def on_epoch_end(self, model):\n",
        "    print(f'Epoch {self.epoch}')\n",
        "    self.epoch += 1"
      ]
    },
    {
      "cell_type": "code",
      "execution_count": null,
      "metadata": {
        "id": "Hw9c_YFc42sb"
      },
      "outputs": [],
      "source": [
        "train_text, test_text, y_train, y_test = train_test_split(df['text'], df['rating'], random_state=42, test_size=0.2)"
      ]
    },
    {
      "cell_type": "code",
      "execution_count": null,
      "metadata": {
        "colab": {
          "base_uri": "https://localhost:8080/",
          "height": 49,
          "referenced_widgets": [
            "6c17a61cd7144d28bd90a3342f132425",
            "4c258298795b466ca4274342623f1370",
            "946554beede44e49b99f67a00c0f22b6",
            "3f2215c25a5a49548a75bb3042a71a4f",
            "d469e9de7da246628c20f6fc74a4ce49",
            "0d421371631849c592ee5460d8c94471",
            "be058ea89f2c4ed0a716cdc939468683",
            "a61b1efd5c104474bd96a9a404bee875",
            "abaca24d4bed4539869a8fdc308d0e1b",
            "1f6723eaf49c430488e0efb6e9675b23",
            "60780eee05eb439ca35d01abc40bef82"
          ]
        },
        "id": "zB7JWiyxu_vw",
        "outputId": "9e085872-fa7a-4035-933c-d2154d71c568"
      },
      "outputs": [
        {
          "data": {
            "application/vnd.jupyter.widget-view+json": {
              "model_id": "6c17a61cd7144d28bd90a3342f132425",
              "version_major": 2,
              "version_minor": 0
            },
            "text/plain": [
              "  0%|          | 0/40000 [00:00<?, ?it/s]"
            ]
          },
          "metadata": {},
          "output_type": "display_data"
        }
      ],
      "source": [
        "sentences = train_text.progress_apply(lambda x: word_tokenize(x.lower())).tolist()"
      ]
    },
    {
      "cell_type": "code",
      "execution_count": null,
      "metadata": {
        "id": "BDHQPbbUWp8s"
      },
      "outputs": [],
      "source": [
        "w2v_model = Word2Vec(window=7, vector_size=256, min_count=10, shrink_windows=True, seed=42, alpha=0.05)\n",
        "w2v_model.build_vocab(sentences)"
      ]
    },
    {
      "cell_type": "markdown",
      "source": [
        "обучим модель на 35 эпохах"
      ],
      "metadata": {
        "id": "mCZW-sn34yo9"
      }
    },
    {
      "cell_type": "code",
      "execution_count": null,
      "metadata": {
        "colab": {
          "base_uri": "https://localhost:8080/"
        },
        "id": "qhFVUrhwxrKp",
        "outputId": "461d317f-4530-491c-d9d3-524ea9fd90cc"
      },
      "outputs": [
        {
          "name": "stdout",
          "output_type": "stream",
          "text": [
            "Loss after epoch 0: 5127554.5\n",
            "Loss after epoch 1: 4507081.5\n",
            "Loss after epoch 2: 4131001.0\n",
            "Loss after epoch 3: 4030459.0\n",
            "Loss after epoch 4: 3628400.0\n",
            "Loss after epoch 5: 3544828.0\n",
            "Loss after epoch 6: 3572418.0\n",
            "Loss after epoch 7: 3606156.0\n",
            "Loss after epoch 8: 2940342.0\n",
            "Loss after epoch 9: 2450752.0\n",
            "Loss after epoch 10: 2439476.0\n",
            "Loss after epoch 11: 2431576.0\n",
            "Loss after epoch 12: 2399984.0\n",
            "Loss after epoch 13: 2261252.0\n",
            "Loss after epoch 14: 2279972.0\n",
            "Loss after epoch 15: 2298000.0\n",
            "Loss after epoch 16: 2279504.0\n",
            "Loss after epoch 17: 2203808.0\n",
            "Loss after epoch 18: 2200544.0\n",
            "Loss after epoch 19: 2116388.0\n",
            "Loss after epoch 20: 1998020.0\n",
            "Loss after epoch 21: 1942128.0\n",
            "Loss after epoch 22: 1928536.0\n",
            "Loss after epoch 23: 979900.0\n",
            "Loss after epoch 24: 321088.0\n",
            "Loss after epoch 25: 298584.0\n",
            "Loss after epoch 26: 280040.0\n",
            "Loss after epoch 27: 257096.0\n",
            "Loss after epoch 28: 243328.0\n",
            "Loss after epoch 29: 228464.0\n",
            "Loss after epoch 30: 201176.0\n",
            "Loss after epoch 31: 191912.0\n",
            "Loss after epoch 32: 170752.0\n",
            "Loss after epoch 33: 153824.0\n",
            "Loss after epoch 34: 145472.0\n"
          ]
        },
        {
          "data": {
            "text/plain": [
              "(239585449, 327633425)"
            ]
          },
          "execution_count": 70,
          "metadata": {},
          "output_type": "execute_result"
        }
      ],
      "source": [
        "w2v_model.train(\n",
        "    corpus_iterable=sentences,\n",
        "    total_examples=w2v_model.corpus_count,\n",
        "    epochs=35,\n",
        "    compute_loss=True,\n",
        "    callbacks=[LossLogger()]\n",
        "    )"
      ]
    },
    {
      "cell_type": "code",
      "execution_count": null,
      "metadata": {
        "id": "Oyx_56ni2gQQ"
      },
      "outputs": [],
      "source": [
        "w2v_model.save(path_dir_to_save + 'w2v.model')"
      ]
    },
    {
      "cell_type": "markdown",
      "metadata": {
        "id": "RUEbFbBvNJo2"
      },
      "source": [
        "### w2v model load"
      ]
    },
    {
      "cell_type": "code",
      "execution_count": null,
      "metadata": {
        "id": "3JRvRRwlMVxP"
      },
      "outputs": [],
      "source": [
        "w2v_model = Word2Vec.load(path_dir_to_save + 'w2v.model')"
      ]
    },
    {
      "cell_type": "markdown",
      "metadata": {
        "id": "EOxF5iztOCVU"
      },
      "source": [
        "### w2v vectorize"
      ]
    },
    {
      "cell_type": "markdown",
      "source": [
        "напишем класс для векторизации текстов посредством усреднения вектора и заполнения нулями при встрече незнакомых символов"
      ],
      "metadata": {
        "id": "9ct_ja6I44KK"
      }
    },
    {
      "cell_type": "code",
      "execution_count": null,
      "metadata": {
        "id": "Gb3_qv5euXC7"
      },
      "outputs": [],
      "source": [
        "class Word2VecTransformer:\n",
        "\n",
        "    def __init__(self, w2v_model1, w2v_model2='', word_pattern=''):\n",
        "\n",
        "        self.w2v_model1 = w2v_model1\n",
        "        self.w2v_model2 = w2v_model2\n",
        "        self.word_pattern = word_pattern\n",
        "        self.re = re.compile(pattern=self.word_pattern)\n",
        "\n",
        "    def fit(self, X):\n",
        "        return self\n",
        "\n",
        "    def transform(self, X):\n",
        "        mmean = 0\n",
        "        X_transformed = np.zeros((len(X), self.w2v_model1.wv.vector_size))\n",
        "        for i, title in enumerate(X):\n",
        "            count = 0\n",
        "            title_vector_avg = np.zeros((self.w2v_model1.wv.vector_size,))\n",
        "            tokens = self.re.findall(title.lower())\n",
        "            for token in tokens:\n",
        "                if token in self.w2v_model1.wv.key_to_index:\n",
        "                    title_vector_avg += self.w2v_model1.wv.get_vector(token)\n",
        "                    count += 1\n",
        "            if count:\n",
        "                mmean += title_vector_avg / count\n",
        "        for i, title in enumerate(X):\n",
        "            count = 0\n",
        "            title_vector_avg = np.zeros((self.w2v_model1.wv.vector_size,))\n",
        "            tokens = self.re.findall(title.lower())\n",
        "            for token in tokens:\n",
        "                if token in self.w2v_model1.wv.key_to_index:\n",
        "                    title_vector_avg += self.w2v_model1.wv.get_vector(token)\n",
        "                    count += 1\n",
        "            if count:\n",
        "                X_transformed[i] = title_vector_avg / count\n",
        "            else:\n",
        "                X_transformed[i][...] = mmean\n",
        "        return X_transformed"
      ]
    },
    {
      "cell_type": "code",
      "execution_count": null,
      "metadata": {
        "id": "f3qu8djzufhx"
      },
      "outputs": [],
      "source": [
        "WORD_PATTERN = '(?u)\\\\b\\\\w\\\\w+\\\\b'\n",
        "\n",
        "w2v_transformer = Word2VecTransformer(w2v_model1=w2v_model, word_pattern=WORD_PATTERN)"
      ]
    },
    {
      "cell_type": "code",
      "execution_count": null,
      "metadata": {
        "id": "iOTwcmRUNYIG"
      },
      "outputs": [],
      "source": [
        "X_test = w2v_transformer.transform(test_text)\n",
        "X_train = w2v_transformer.transform(train_text)"
      ]
    },
    {
      "cell_type": "markdown",
      "metadata": {
        "id": "xJgOAAqLOJBc"
      },
      "source": [
        "### mlp training\n",
        "\n",
        "исползуем базовую модель перцептрон для обучения на векторах"
      ]
    },
    {
      "cell_type": "code",
      "execution_count": null,
      "metadata": {
        "id": "PGtnENUU4YSh"
      },
      "outputs": [],
      "source": [
        "mlp = MLPClassifier(hidden_layer_sizes=(128, 64, 16),\n",
        "                        max_iter = 100,\n",
        "                        activation = 'relu',\n",
        "                        learning_rate='adaptive',\n",
        "                        alpha=0.25, n_iter_no_change=15,\n",
        "                        solver = 'adam', verbose=True, early_stopping=True, random_state=42)"
      ]
    },
    {
      "cell_type": "code",
      "execution_count": null,
      "metadata": {
        "colab": {
          "base_uri": "https://localhost:8080/",
          "height": 1000
        },
        "id": "GAt7BZzZ5aZe",
        "outputId": "26780b47-658f-46d9-d528-be47482efc3c"
      },
      "outputs": [
        {
          "name": "stdout",
          "output_type": "stream",
          "text": [
            "Iteration 1, loss = 1.76859578\n",
            "Validation score: 0.416750\n",
            "Iteration 2, loss = 1.56501494\n",
            "Validation score: 0.422750\n",
            "Iteration 3, loss = 1.53277761\n",
            "Validation score: 0.429500\n",
            "Iteration 4, loss = 1.51521767\n",
            "Validation score: 0.417000\n",
            "Iteration 5, loss = 1.50181930\n",
            "Validation score: 0.431500\n",
            "Iteration 6, loss = 1.49281984\n",
            "Validation score: 0.430000\n",
            "Iteration 7, loss = 1.48182624\n",
            "Validation score: 0.432750\n",
            "Iteration 8, loss = 1.47897539\n",
            "Validation score: 0.427000\n",
            "Iteration 9, loss = 1.47148223\n",
            "Validation score: 0.431250\n",
            "Iteration 10, loss = 1.46595382\n",
            "Validation score: 0.424500\n",
            "Iteration 11, loss = 1.46109559\n",
            "Validation score: 0.434500\n",
            "Iteration 12, loss = 1.45719534\n",
            "Validation score: 0.433250\n",
            "Iteration 13, loss = 1.45291624\n",
            "Validation score: 0.434250\n",
            "Iteration 14, loss = 1.45447592\n",
            "Validation score: 0.427000\n",
            "Iteration 15, loss = 1.44845378\n",
            "Validation score: 0.427000\n",
            "Iteration 16, loss = 1.44362725\n",
            "Validation score: 0.430500\n",
            "Iteration 17, loss = 1.44018711\n",
            "Validation score: 0.431500\n",
            "Iteration 18, loss = 1.43695745\n",
            "Validation score: 0.431750\n",
            "Iteration 19, loss = 1.43420651\n",
            "Validation score: 0.432000\n",
            "Iteration 20, loss = 1.43189292\n",
            "Validation score: 0.424250\n",
            "Iteration 21, loss = 1.42702006\n",
            "Validation score: 0.428500\n",
            "Iteration 22, loss = 1.42428958\n",
            "Validation score: 0.429500\n",
            "Iteration 23, loss = 1.41839909\n",
            "Validation score: 0.433250\n",
            "Iteration 24, loss = 1.41623920\n",
            "Validation score: 0.433000\n",
            "Iteration 25, loss = 1.41534071\n",
            "Validation score: 0.427000\n",
            "Iteration 26, loss = 1.41134223\n",
            "Validation score: 0.430000\n",
            "Iteration 27, loss = 1.40501527\n",
            "Validation score: 0.421500\n",
            "Validation score did not improve more than tol=0.000100 for 15 consecutive epochs. Stopping.\n"
          ]
        },
        {
          "data": {
            "text/html": [
              "<style>#sk-container-id-7 {color: black;}#sk-container-id-7 pre{padding: 0;}#sk-container-id-7 div.sk-toggleable {background-color: white;}#sk-container-id-7 label.sk-toggleable__label {cursor: pointer;display: block;width: 100%;margin-bottom: 0;padding: 0.3em;box-sizing: border-box;text-align: center;}#sk-container-id-7 label.sk-toggleable__label-arrow:before {content: \"▸\";float: left;margin-right: 0.25em;color: #696969;}#sk-container-id-7 label.sk-toggleable__label-arrow:hover:before {color: black;}#sk-container-id-7 div.sk-estimator:hover label.sk-toggleable__label-arrow:before {color: black;}#sk-container-id-7 div.sk-toggleable__content {max-height: 0;max-width: 0;overflow: hidden;text-align: left;background-color: #f0f8ff;}#sk-container-id-7 div.sk-toggleable__content pre {margin: 0.2em;color: black;border-radius: 0.25em;background-color: #f0f8ff;}#sk-container-id-7 input.sk-toggleable__control:checked~div.sk-toggleable__content {max-height: 200px;max-width: 100%;overflow: auto;}#sk-container-id-7 input.sk-toggleable__control:checked~label.sk-toggleable__label-arrow:before {content: \"▾\";}#sk-container-id-7 div.sk-estimator input.sk-toggleable__control:checked~label.sk-toggleable__label {background-color: #d4ebff;}#sk-container-id-7 div.sk-label input.sk-toggleable__control:checked~label.sk-toggleable__label {background-color: #d4ebff;}#sk-container-id-7 input.sk-hidden--visually {border: 0;clip: rect(1px 1px 1px 1px);clip: rect(1px, 1px, 1px, 1px);height: 1px;margin: -1px;overflow: hidden;padding: 0;position: absolute;width: 1px;}#sk-container-id-7 div.sk-estimator {font-family: monospace;background-color: #f0f8ff;border: 1px dotted black;border-radius: 0.25em;box-sizing: border-box;margin-bottom: 0.5em;}#sk-container-id-7 div.sk-estimator:hover {background-color: #d4ebff;}#sk-container-id-7 div.sk-parallel-item::after {content: \"\";width: 100%;border-bottom: 1px solid gray;flex-grow: 1;}#sk-container-id-7 div.sk-label:hover label.sk-toggleable__label {background-color: #d4ebff;}#sk-container-id-7 div.sk-serial::before {content: \"\";position: absolute;border-left: 1px solid gray;box-sizing: border-box;top: 0;bottom: 0;left: 50%;z-index: 0;}#sk-container-id-7 div.sk-serial {display: flex;flex-direction: column;align-items: center;background-color: white;padding-right: 0.2em;padding-left: 0.2em;position: relative;}#sk-container-id-7 div.sk-item {position: relative;z-index: 1;}#sk-container-id-7 div.sk-parallel {display: flex;align-items: stretch;justify-content: center;background-color: white;position: relative;}#sk-container-id-7 div.sk-item::before, #sk-container-id-7 div.sk-parallel-item::before {content: \"\";position: absolute;border-left: 1px solid gray;box-sizing: border-box;top: 0;bottom: 0;left: 50%;z-index: -1;}#sk-container-id-7 div.sk-parallel-item {display: flex;flex-direction: column;z-index: 1;position: relative;background-color: white;}#sk-container-id-7 div.sk-parallel-item:first-child::after {align-self: flex-end;width: 50%;}#sk-container-id-7 div.sk-parallel-item:last-child::after {align-self: flex-start;width: 50%;}#sk-container-id-7 div.sk-parallel-item:only-child::after {width: 0;}#sk-container-id-7 div.sk-dashed-wrapped {border: 1px dashed gray;margin: 0 0.4em 0.5em 0.4em;box-sizing: border-box;padding-bottom: 0.4em;background-color: white;}#sk-container-id-7 div.sk-label label {font-family: monospace;font-weight: bold;display: inline-block;line-height: 1.2em;}#sk-container-id-7 div.sk-label-container {text-align: center;}#sk-container-id-7 div.sk-container {/* jupyter's `normalize.less` sets `[hidden] { display: none; }` but bootstrap.min.css set `[hidden] { display: none !important; }` so we also need the `!important` here to be able to override the default hidden behavior on the sphinx rendered scikit-learn.org. See: https://github.com/scikit-learn/scikit-learn/issues/21755 */display: inline-block !important;position: relative;}#sk-container-id-7 div.sk-text-repr-fallback {display: none;}</style><div id=\"sk-container-id-7\" class=\"sk-top-container\"><div class=\"sk-text-repr-fallback\"><pre>MLPClassifier(alpha=0.25, early_stopping=True, hidden_layer_sizes=(128, 64, 16),\n",
              "              learning_rate=&#x27;adaptive&#x27;, max_iter=100, n_iter_no_change=15,\n",
              "              random_state=42, verbose=True)</pre><b>In a Jupyter environment, please rerun this cell to show the HTML representation or trust the notebook. <br />On GitHub, the HTML representation is unable to render, please try loading this page with nbviewer.org.</b></div><div class=\"sk-container\" hidden><div class=\"sk-item\"><div class=\"sk-estimator sk-toggleable\"><input class=\"sk-toggleable__control sk-hidden--visually\" id=\"sk-estimator-id-7\" type=\"checkbox\" checked><label for=\"sk-estimator-id-7\" class=\"sk-toggleable__label sk-toggleable__label-arrow\">MLPClassifier</label><div class=\"sk-toggleable__content\"><pre>MLPClassifier(alpha=0.25, early_stopping=True, hidden_layer_sizes=(128, 64, 16),\n",
              "              learning_rate=&#x27;adaptive&#x27;, max_iter=100, n_iter_no_change=15,\n",
              "              random_state=42, verbose=True)</pre></div></div></div></div></div>"
            ],
            "text/plain": [
              "MLPClassifier(alpha=0.25, early_stopping=True, hidden_layer_sizes=(128, 64, 16),\n",
              "              learning_rate='adaptive', max_iter=100, n_iter_no_change=15,\n",
              "              random_state=42, verbose=True)"
            ]
          },
          "execution_count": 40,
          "metadata": {},
          "output_type": "execute_result"
        }
      ],
      "source": [
        "mlp.fit(\n",
        "    X=X_train,\n",
        "    y=y_train)"
      ]
    },
    {
      "cell_type": "code",
      "execution_count": null,
      "metadata": {
        "colab": {
          "base_uri": "https://localhost:8080/"
        },
        "id": "R6Fp5YCFQjEL",
        "outputId": "abbceecd-e064-4718-eb24-b9dabf55771e"
      },
      "outputs": [
        {
          "name": "stdout",
          "output_type": "stream",
          "text": [
            "              precision    recall  f1-score   support\n",
            "\n",
            "           1       0.53      0.83      0.64      1998\n",
            "           2       0.50      0.00      0.00       907\n",
            "           3       0.27      0.17      0.21      1018\n",
            "           4       0.33      0.35      0.34      1022\n",
            "           7       0.34      0.23      0.28       958\n",
            "           8       0.31      0.23      0.26      1195\n",
            "           9       0.00      0.00      0.00       931\n",
            "          10       0.46      0.83      0.59      1971\n",
            "\n",
            "    accuracy                           0.43     10000\n",
            "   macro avg       0.34      0.33      0.29     10000\n",
            "weighted avg       0.37      0.43      0.36     10000\n",
            "\n"
          ]
        },
        {
          "name": "stderr",
          "output_type": "stream",
          "text": [
            "/usr/local/lib/python3.10/dist-packages/sklearn/metrics/_classification.py:1471: UndefinedMetricWarning: Precision and F-score are ill-defined and being set to 0.0 in labels with no predicted samples. Use `zero_division` parameter to control this behavior.\n",
            "  _warn_prf(average, modifier, msg_start, len(result))\n",
            "/usr/local/lib/python3.10/dist-packages/sklearn/metrics/_classification.py:1471: UndefinedMetricWarning: Precision and F-score are ill-defined and being set to 0.0 in labels with no predicted samples. Use `zero_division` parameter to control this behavior.\n",
            "  _warn_prf(average, modifier, msg_start, len(result))\n",
            "/usr/local/lib/python3.10/dist-packages/sklearn/metrics/_classification.py:1471: UndefinedMetricWarning: Precision and F-score are ill-defined and being set to 0.0 in labels with no predicted samples. Use `zero_division` parameter to control this behavior.\n",
            "  _warn_prf(average, modifier, msg_start, len(result))\n"
          ]
        }
      ],
      "source": [
        "y_pred = mlp.predict(X_test)\n",
        "print(classification_report(y_test, y_pred))"
      ]
    },
    {
      "cell_type": "markdown",
      "metadata": {
        "id": "_Z5l2eSFSAEs"
      },
      "source": [
        "## w2v + lstm"
      ]
    },
    {
      "cell_type": "code",
      "execution_count": null,
      "metadata": {
        "id": "INeUCGNiQ1pr"
      },
      "outputs": [],
      "source": [
        "from IPython.display import clear_output\n",
        "\n",
        "\n",
        "def plot_progress(train_losses, val_loss, train_accs, val_accs, lrs):\n",
        "    clear_output(True)\n",
        "\n",
        "    f, (ax1, ax2, ax3) = plt.subplots(nrows=1, ncols=3)\n",
        "    f.set_figheight(6)\n",
        "    f.set_figwidth(16)\n",
        "\n",
        "    ax1.plot(train_losses, label='train loss')\n",
        "    ax1.plot(val_loss, label='test loss')\n",
        "    ax1.plot(np.zeros_like(train_losses), '--', label='zero')\n",
        "    ax1.set_title('Loss', fontsize=14)\n",
        "    ax1.set_ylabel('Loss')\n",
        "    ax1.set_xlabel('Batch number')\n",
        "    ax1.legend()\n",
        "\n",
        "    ax2.plot(train_accs, label='Train Auc')\n",
        "    ax2.plot(val_accs, label='Val Auc')\n",
        "    ax2.plot(np.ones_like(train_accs), '--', label='Accuracy')\n",
        "    ax2.set_title('Auc', fontsize=14)\n",
        "    ax2.set_ylabel('Auc')\n",
        "    ax2.set_xlabel('Batch number')\n",
        "    ax2.legend()\n",
        "\n",
        "    ax3.plot(lrs, label='learning rate')\n",
        "    ax3.set_title('Learing rate')\n",
        "    ax3.set_xlabel('Batch number')\n",
        "    ax3.legend()\n",
        "\n",
        "    plt.show()"
      ]
    },
    {
      "cell_type": "code",
      "execution_count": null,
      "metadata": {
        "id": "VI0RT-g0SB5w"
      },
      "outputs": [],
      "source": [
        "def calculate_metric_val_dataset(model, val_sequence_dataloader):\n",
        "    scores = []\n",
        "    cats = []\n",
        "    y_true = []\n",
        "    for (x, y, cat) in val_sequence_dataloader:\n",
        "        with torch.no_grad():\n",
        "            y_true.extend(y)\n",
        "            cats.extend(cat.numpy())\n",
        "            x = x.to(DEVICE)\n",
        "            preds = model(x).detach().cpu()\n",
        "            scores.extend(preds)\n",
        "    return calculate_metric(y_true, scores, cats)"
      ]
    },
    {
      "cell_type": "code",
      "execution_count": 3,
      "metadata": {
        "id": "mHlWWg33SED0"
      },
      "outputs": [],
      "source": [
        "class LSTMWithAttention(nn.Module):\n",
        "    def __init__(\n",
        "        self,\n",
        "        #vocab_size,\n",
        "        embedding_dim,\n",
        "        hidden_dim,\n",
        "        output_dim,\n",
        "        n_layers=1,\n",
        "        use_bidirectional = False,\n",
        "        dropout: float = 0.0,\n",
        "        hidden_fc_size: int = 128\n",
        "    ):\n",
        "        super().__init__()\n",
        "        #self.embedding = nn.Embedding(vocab_size, embedding_dim)\n",
        "        self.rnn = nn.LSTM(256,\n",
        "                           hidden_dim // 2,\n",
        "                           batch_first=True,\n",
        "                           bidirectional=use_bidirectional,\n",
        "                           dropout=dropout)\n",
        "        self.linear1 = nn.Linear(hidden_dim, 32)\n",
        "        self.linear2 = nn.Linear(32, 1)\n",
        "        self.after_linear = nn.Sequential(\n",
        "            nn.BatchNorm1d(32),\n",
        "            nn.ReLU(),\n",
        "            nn.Dropout(0.1),\n",
        "        )\n",
        "        self.dropout = nn.Dropout(dropout)\n",
        "        self.sigmoid = nn.Sigmoid()\n",
        "        self.init_weights()\n",
        "\n",
        "    def init_weights(self):\n",
        "        self.linear2.weight.data.normal_(0, (2 / 32) ** 0.5)\n",
        "        self.linear1.weight.data.normal_(0, (2 / 256) ** 0.5)\n",
        "\n",
        "    def attention(self, lstm_output, final_state):\n",
        "        merged_state = torch.cat([s for s in final_state], 1)\n",
        "        merged_state = merged_state.unsqueeze(2)\n",
        "        weights = torch.bmm(lstm_output, merged_state)\n",
        "        weights = F.softmax(weights.squeeze(2), dim=1).unsqueeze(2)\n",
        "        return torch.bmm(torch.transpose(lstm_output, 1, 2), weights).squeeze(2)\n",
        "\n",
        "    def forward(self, x):\n",
        "        #embedded = self.embedding(x)\n",
        "        output, (hidden, cell) = self.rnn(x)\n",
        "\n",
        "        attn_output = self.attention(output, hidden)\n",
        "        x = self.after_linear(self.linear1(attn_output.squeeze(0)))\n",
        "        return self.sigmoid(self.linear2(x)).squeeze()"
      ]
    },
    {
      "cell_type": "markdown",
      "metadata": {
        "id": "kPObkBCuWEDQ"
      },
      "source": [
        "# BERT fine-tuning"
      ]
    },
    {
      "cell_type": "markdown",
      "source": [
        "### base-line (max_len=128, bert = 'bhadresh-savani/bert-base-uncased-emotion') f1=0.44"
      ],
      "metadata": {
        "id": "9kB87kvUi-Hc"
      }
    },
    {
      "cell_type": "code",
      "execution_count": 36,
      "metadata": {
        "colab": {
          "base_uri": "https://localhost:8080/"
        },
        "id": "wh3xHMOMWJyh",
        "outputId": "f1246aa9-609b-4a22-e2e5-6a340d2ed2cf"
      },
      "outputs": [
        {
          "output_type": "stream",
          "name": "stderr",
          "text": [
            "/usr/local/lib/python3.10/dist-packages/transformers/tokenization_utils_base.py:1601: FutureWarning: `clean_up_tokenization_spaces` was not set. It will be set to `True` by default. This behavior will be depracted in transformers v4.45, and will be then set to `False` by default. For more details check this issue: https://github.com/huggingface/transformers/issues/31884\n",
            "  warnings.warn(\n",
            "Some weights of BertForSequenceClassification were not initialized from the model checkpoint at google-bert/bert-base-uncased and are newly initialized: ['classifier.bias', 'classifier.weight']\n",
            "You should probably TRAIN this model on a down-stream task to be able to use it for predictions and inference.\n"
          ]
        }
      ],
      "source": [
        "bert = \"google-bert/bert-base-uncased\"\n",
        "\n",
        "tokenizer = BertTokenizer.from_pretrained(bert)\n",
        "model_bert = BertForSequenceClassification.from_pretrained(bert, num_labels=len(df['rating'].unique()), ignore_mismatched_sizes=True)"
      ]
    },
    {
      "cell_type": "code",
      "execution_count": 16,
      "metadata": {
        "id": "BstKqhvxkpfU"
      },
      "outputs": [],
      "source": [
        "train_text, test_text, y_train, y_test = train_test_split(df['text'], df['rating'], random_state=42, test_size=0.2, stratify=df['rating'])"
      ]
    },
    {
      "cell_type": "code",
      "execution_count": 17,
      "metadata": {
        "id": "hBSOibpPWOED"
      },
      "outputs": [],
      "source": [
        "MAX_LEN = 256\n",
        "\n",
        "def tokenize_function(examples):\n",
        "    return tokenizer(examples['text'], padding=\"max_length\", truncation='only_first', max_len=MAX_LEN)\n",
        "\n",
        "X_train = tokenizer(train_text.tolist(), truncation='only_first', padding=True, max_length=MAX_LEN)\n",
        "X_test = tokenizer(test_text.tolist(), truncation='only_first', padding=True, max_length=MAX_LEN)"
      ]
    },
    {
      "cell_type": "markdown",
      "source": [
        "#### custom dataset"
      ],
      "metadata": {
        "id": "9_xyuyzjQ7Kc"
      }
    },
    {
      "cell_type": "code",
      "execution_count": 18,
      "metadata": {
        "id": "r7AT116wWY3Z"
      },
      "outputs": [],
      "source": [
        "class CustomDataset(torch.utils.data.Dataset):\n",
        "    def __init__(self, encodings, labels):\n",
        "        self.encodings = encodings\n",
        "        self.labels = labels\n",
        "\n",
        "    def __getitem__(self, idx):\n",
        "        item = {key: torch.tensor(val[idx]) for key, val in self.encodings.items()}\n",
        "        item['labels'] = torch.tensor(self.labels[idx], dtype=torch.long)\n",
        "        return item\n",
        "\n",
        "    def __len__(self):\n",
        "        return len(self.labels)"
      ]
    },
    {
      "cell_type": "code",
      "source": [
        "train_dataset = CustomDataset(X_train, y_train.to_list())\n",
        "test_dataset = CustomDataset(X_test, y_test.to_list())"
      ],
      "metadata": {
        "id": "tGsIyWabRHy-"
      },
      "execution_count": 19,
      "outputs": []
    },
    {
      "cell_type": "markdown",
      "source": [
        "#### metric"
      ],
      "metadata": {
        "id": "VzeMue0CXV-E"
      }
    },
    {
      "cell_type": "code",
      "execution_count": 20,
      "metadata": {
        "id": "1F4DXSRfXIFF"
      },
      "outputs": [],
      "source": [
        "def compute_f1_accuracy(pred):\n",
        "    labels = pred.label_ids\n",
        "    preds = pred.predictions.argmax(-1)\n",
        "\n",
        "    labels_cpu = torch.tensor(labels).cpu().numpy()\n",
        "    preds_cpu = torch.tensor(preds).cpu().numpy()\n",
        "\n",
        "    f1 = f1_score(labels_cpu, preds_cpu, average='weighted')\n",
        "    accuracy = accuracy_score(labels_cpu, preds_cpu)\n",
        "    return {'f1': f1, 'accuracy': accuracy}"
      ]
    },
    {
      "cell_type": "markdown",
      "source": [
        "#### train"
      ],
      "metadata": {
        "id": "wRvwFWztxia5"
      }
    },
    {
      "cell_type": "code",
      "execution_count": 21,
      "metadata": {
        "id": "CT8s7wYoWyjZ"
      },
      "outputs": [],
      "source": [
        "training_args = TrainingArguments(\n",
        "    output_dir=path_dir_to_save + 'model_3_results',\n",
        "    num_train_epochs=4,\n",
        "    per_device_train_batch_size=32,\n",
        "    per_device_eval_batch_size=32,\n",
        "    warmup_steps=300,\n",
        "    weight_decay=0.01,\n",
        "    logging_dir='./logs',\n",
        "    eval_strategy='steps',\n",
        "    eval_steps=500,\n",
        "    save_total_limit=2,\n",
        "    save_steps=1000,\n",
        "    load_best_model_at_end=True,\n",
        "    metric_for_best_model='f1',\n",
        "    greater_is_better=True,\n",
        ")\n",
        "\n",
        "trainer = Trainer(\n",
        "    model=model_bert,\n",
        "    args=training_args,\n",
        "    train_dataset=train_dataset,\n",
        "    eval_dataset=test_dataset,\n",
        "    compute_metrics=compute_f1_accuracy\n",
        ")"
      ]
    },
    {
      "cell_type": "code",
      "execution_count": null,
      "metadata": {
        "colab": {
          "base_uri": "https://localhost:8080/",
          "height": 263
        },
        "id": "zxYRlaMabBbG",
        "outputId": "a7b0cecb-f1b4-4544-9eb0-4efa40561d08"
      },
      "outputs": [
        {
          "output_type": "display_data",
          "data": {
            "text/plain": [
              "<IPython.core.display.HTML object>"
            ],
            "text/html": [
              "\n",
              "    <div>\n",
              "      \n",
              "      <progress value='3034' max='5000' style='width:300px; height:20px; vertical-align: middle;'></progress>\n",
              "      [3034/5000 1:23:25 < 54:05, 0.61 it/s, Epoch 2.43/4]\n",
              "    </div>\n",
              "    <table border=\"1\" class=\"dataframe\">\n",
              "  <thead>\n",
              " <tr style=\"text-align: left;\">\n",
              "      <th>Step</th>\n",
              "      <th>Training Loss</th>\n",
              "      <th>Validation Loss</th>\n",
              "      <th>F1</th>\n",
              "      <th>Accuracy</th>\n",
              "    </tr>\n",
              "  </thead>\n",
              "  <tbody>\n",
              "    <tr>\n",
              "      <td>500</td>\n",
              "      <td>1.611000</td>\n",
              "      <td>1.418773</td>\n",
              "      <td>0.357384</td>\n",
              "      <td>0.453600</td>\n",
              "    </tr>\n",
              "    <tr>\n",
              "      <td>1000</td>\n",
              "      <td>1.397100</td>\n",
              "      <td>1.403151</td>\n",
              "      <td>0.385016</td>\n",
              "      <td>0.442000</td>\n",
              "    </tr>\n",
              "    <tr>\n",
              "      <td>1500</td>\n",
              "      <td>1.294200</td>\n",
              "      <td>1.357437</td>\n",
              "      <td>0.411840</td>\n",
              "      <td>0.465000</td>\n",
              "    </tr>\n",
              "    <tr>\n",
              "      <td>2000</td>\n",
              "      <td>1.209800</td>\n",
              "      <td>1.311168</td>\n",
              "      <td>0.421115</td>\n",
              "      <td>0.477400</td>\n",
              "    </tr>\n",
              "    <tr>\n",
              "      <td>2500</td>\n",
              "      <td>1.192800</td>\n",
              "      <td>1.289059</td>\n",
              "      <td>0.436849</td>\n",
              "      <td>0.480300</td>\n",
              "    </tr>\n",
              "    <tr>\n",
              "      <td>3000</td>\n",
              "      <td>0.987900</td>\n",
              "      <td>1.429435</td>\n",
              "      <td>0.449446</td>\n",
              "      <td>0.456600</td>\n",
              "    </tr>\n",
              "  </tbody>\n",
              "</table><p>"
            ]
          },
          "metadata": {}
        }
      ],
      "source": [
        "trainer.train()"
      ]
    },
    {
      "cell_type": "code",
      "source": [
        "import pickle\n",
        "\n",
        "with open('bert_model.pkl', 'wb') as model_file:\n",
        "    pickle.dump(model_bert, model_file)\n",
        "\n",
        "with open('tokenizer.pkl', 'wb') as tokenizer_file:\n",
        "    pickle.dump(tokenizer, tokenizer_file)"
      ],
      "metadata": {
        "id": "VsTUh3-E7ge0"
      },
      "execution_count": null,
      "outputs": []
    },
    {
      "cell_type": "markdown",
      "source": [
        "#### model loading"
      ],
      "metadata": {
        "id": "6F8yaSURc-UB"
      }
    },
    {
      "cell_type": "code",
      "source": [
        "with open(path_dir_to_save + 'bert_model.pkl', 'rb') as model_file:\n",
        "    bert_model = pickle.load(model_file)\n",
        "\n",
        "\n",
        "with open(path_dir_to_save + 'tokenizer.pkl', 'rb') as tokenizer_file:\n",
        "    tokenizer = pickle.load(tokenizer_file)"
      ],
      "metadata": {
        "colab": {
          "base_uri": "https://localhost:8080/"
        },
        "id": "06TbT3wx7umB",
        "outputId": "ce02949f-1ad8-4cf4-b486-33b9fa91e87d"
      },
      "execution_count": 7,
      "outputs": [
        {
          "output_type": "stream",
          "name": "stderr",
          "text": [
            "/usr/local/lib/python3.10/dist-packages/torch/storage.py:414: FutureWarning: You are using `torch.load` with `weights_only=False` (the current default value), which uses the default pickle module implicitly. It is possible to construct malicious pickle data which will execute arbitrary code during unpickling (See https://github.com/pytorch/pytorch/blob/main/SECURITY.md#untrusted-models for more details). In a future release, the default value for `weights_only` will be flipped to `True`. This limits the functions that could be executed during unpickling. Arbitrary objects will no longer be allowed to be loaded via this mode unless they are explicitly allowlisted by the user via `torch.serialization.add_safe_globals`. We recommend you start setting `weights_only=True` for any use case where you don't have full control of the loaded file. Please open an issue on GitHub for any issues related to this experimental feature.\n",
            "  return torch.load(io.BytesIO(b))\n"
          ]
        }
      ]
    },
    {
      "cell_type": "markdown",
      "source": [
        "#### model eveluation"
      ],
      "metadata": {
        "id": "E8s4jLCudCYN"
      }
    },
    {
      "cell_type": "code",
      "source": [
        "def predict_texts(bert_model, tokenizer, texts, device='cpu'):\n",
        "    # Переводим модель в режим оценки\n",
        "    bert_model.eval()\n",
        "\n",
        "    # Список для хранения предсказаний\n",
        "    predictions = []\n",
        "    labels = []\n",
        "\n",
        "    # Обрабатываем каждый текст\n",
        "    with torch.no_grad():\n",
        "        for text in tqdm_notebook(texts):\n",
        "            # Токенизация текста\n",
        "            inputs = tokenizer(text, return_tensors='pt', padding=True, truncation='only_first', max_length=256)\n",
        "            inputs = {key: value.to(device) for key, value in inputs.items()}\n",
        "\n",
        "            # Получаем предсказания от модели\n",
        "            outputs = bert_model(**inputs)\n",
        "            logits = outputs.logits  # Предполагается, что последний слой модели возвращает logits\n",
        "\n",
        "            # Применяем softmax для получения вероятностей\n",
        "            probabilities = torch.softmax(logits, dim=1)\n",
        "\n",
        "            # Получаем индекс класса с наивысшей вероятностью\n",
        "            predicted_class = torch.argmax(probabilities, dim=1).item()\n",
        "\n",
        "            if predicted_class <= 3:\n",
        "                predicted_class += 1\n",
        "                label = 0\n",
        "            else:\n",
        "                predicted_class += 3\n",
        "                label = 1\n",
        "\n",
        "            # Добавляем предсказание в список\n",
        "            predictions.append(predicted_class)\n",
        "            labels.append(label)\n",
        "\n",
        "    return predictions, labels"
      ],
      "metadata": {
        "id": "rY9Ir0cadH0z"
      },
      "execution_count": 18,
      "outputs": []
    },
    {
      "cell_type": "code",
      "source": [
        "rating_pred, labels_pred = predict_texts(bert_model,\n",
        "              tokenizer,\n",
        "              df_test.text.to_list()[:1000])"
      ],
      "metadata": {
        "colab": {
          "base_uri": "https://localhost:8080/",
          "height": 49,
          "referenced_widgets": [
            "0cc3dd562c3e40038975a737a1996e7d",
            "370582ac371f4cc4863c0806a0497c31",
            "cc599936abfa4a8cb5e792b65c413c78",
            "ea87d91af2be4597aede4cf99f94e28b",
            "1e93cd7958ce4d5d9d4e03d0700b048a",
            "4e29c0e0d4b246cc88aa8063e66d6885",
            "5ff86a0a07944d35a5960eb328042c40",
            "edae45a3432f438888e752043384fb24",
            "681ab34104c849a9beb70e63484de51b",
            "be5cf1a6e17740cb964e5b69e5ef1be4",
            "72c476d46e8f4cf09f289d47e1ef0fd4"
          ]
        },
        "id": "j0yIvNAOdTW6",
        "outputId": "036d5672-914e-4987-c7fc-98e8b78a3e2b"
      },
      "execution_count": 20,
      "outputs": [
        {
          "output_type": "display_data",
          "data": {
            "text/plain": [
              "  0%|          | 0/1000 [00:00<?, ?it/s]"
            ],
            "application/vnd.jupyter.widget-view+json": {
              "version_major": 2,
              "version_minor": 0,
              "model_id": "0cc3dd562c3e40038975a737a1996e7d"
            }
          },
          "metadata": {}
        }
      ]
    },
    {
      "cell_type": "code",
      "source": [
        "rating_true = df_test.rating[:1000]\n",
        "labels_true = df_test.label[:1000]\n",
        "\n",
        "print('mae:', mean_absolute_error(rating_true, rating_pred))\n",
        "print('f1:', f1_score(rating_true, rating_pred, average='weighted'))\n",
        "print('accuracy:', accuracy_score(labels_true, labels_pred))"
      ],
      "metadata": {
        "colab": {
          "base_uri": "https://localhost:8080/"
        },
        "id": "hBLoWzscftwi",
        "outputId": "ff49e966-7fea-40d5-c869-179136c8d535"
      },
      "execution_count": 21,
      "outputs": [
        {
          "output_type": "stream",
          "name": "stdout",
          "text": [
            "mae: 0.559\n",
            "f1: 0.6087717704956944\n",
            "accuracy: 0.976\n"
          ]
        }
      ]
    },
    {
      "cell_type": "markdown",
      "source": [
        "#### model saving"
      ],
      "metadata": {
        "id": "XHTNCUlNgAHb"
      }
    },
    {
      "cell_type": "code",
      "source": [
        "torch.save(model_bert.state_dict(), path_dir_to_save + 'model_bert')\n",
        "tokenizer.save(path_dir_to_save + 'tokenizer')"
      ],
      "metadata": {
        "id": "0oRZ4LB2KoRT"
      },
      "execution_count": null,
      "outputs": []
    },
    {
      "cell_type": "markdown",
      "source": [
        "### bert 2 f1 = 0.43"
      ],
      "metadata": {
        "id": "oKFT3hB4jMdm"
      }
    },
    {
      "cell_type": "code",
      "source": [
        "bert = \"google-bert/bert-base-uncased\"\n",
        "\n",
        "tokenizer = BertTokenizer.from_pretrained(bert)\n",
        "model_bert = BertForSequenceClassification.from_pretrained(bert, num_labels=len(df['rating'].unique()), ignore_mismatched_sizes=True)"
      ],
      "metadata": {
        "colab": {
          "base_uri": "https://localhost:8080/",
          "height": 138,
          "referenced_widgets": [
            "3bbb839938b14490822093ac94353d2a",
            "ea7056edb9aa4854a5ec0bb0a711c0b2",
            "d7bd1607e6c2463cbed6864c1bbf48c1",
            "e4b1c4ee699b40b4ae7a9434dd69a090",
            "6e8be5f40b324546a63693a438321c0f",
            "e5f0b1c0691640c298768b4b1d227f4a",
            "77a400eb70d44731bfc5638da1499c45",
            "3229e4ace88f41e29b297b41b56e7ef1",
            "bcb7ac8004d14bdeab6f9af0d29557d1",
            "426c970151d247e68fa0f5edaaf8dc29",
            "fb0ffd73edd44e1990e174c0d23b7dd0"
          ]
        },
        "id": "Y3tCNaDZj-Oq",
        "outputId": "7a5a144e-bd95-4300-a830-4799af5226f8"
      },
      "execution_count": 5,
      "outputs": [
        {
          "output_type": "stream",
          "name": "stderr",
          "text": [
            "/usr/local/lib/python3.10/dist-packages/transformers/tokenization_utils_base.py:1601: FutureWarning: `clean_up_tokenization_spaces` was not set. It will be set to `True` by default. This behavior will be depracted in transformers v4.45, and will be then set to `False` by default. For more details check this issue: https://github.com/huggingface/transformers/issues/31884\n",
            "  warnings.warn(\n"
          ]
        },
        {
          "output_type": "display_data",
          "data": {
            "text/plain": [
              "model.safetensors:   0%|          | 0.00/440M [00:00<?, ?B/s]"
            ],
            "application/vnd.jupyter.widget-view+json": {
              "version_major": 2,
              "version_minor": 0,
              "model_id": "3bbb839938b14490822093ac94353d2a"
            }
          },
          "metadata": {}
        },
        {
          "output_type": "stream",
          "name": "stderr",
          "text": [
            "Some weights of BertForSequenceClassification were not initialized from the model checkpoint at google-bert/bert-base-uncased and are newly initialized: ['classifier.bias', 'classifier.weight']\n",
            "You should probably TRAIN this model on a down-stream task to be able to use it for predictions and inference.\n"
          ]
        }
      ]
    },
    {
      "cell_type": "code",
      "source": [
        "train_text, test_text, y_train, y_test = train_test_split(df['text'], df['rating'], random_state=42, test_size=0.2, stratify=df['rating'])"
      ],
      "metadata": {
        "id": "UElVSmtcjX0B"
      },
      "execution_count": null,
      "outputs": []
    },
    {
      "cell_type": "code",
      "source": [
        "MAX_LEN = 300\n",
        "\n",
        "def tokenize_function(examples):\n",
        "    return tokenizer(examples['text'], padding=\"max_length\", truncation='only_first', max_len=MAX_LEN)\n",
        "\n",
        "X_train = tokenizer(train_text.tolist(), truncation='only_first', padding=True, max_length=MAX_LEN)\n",
        "X_test = tokenizer(test_text.tolist(), truncation='only_first', padding=True, max_length=MAX_LEN)"
      ],
      "metadata": {
        "id": "h9nIT--hgNqE"
      },
      "execution_count": null,
      "outputs": []
    },
    {
      "cell_type": "code",
      "source": [
        "train_dataset = CustomDataset(X_train, y_train.to_list())\n",
        "test_dataset = CustomDataset(X_test, y_test.to_list())"
      ],
      "metadata": {
        "id": "mK3WQPjPjQPh"
      },
      "execution_count": null,
      "outputs": []
    },
    {
      "cell_type": "code",
      "source": [
        "training_args = TrainingArguments(\n",
        "    output_dir='./results',\n",
        "    num_train_epochs=3,\n",
        "    per_device_train_batch_size=32,\n",
        "    per_device_eval_batch_size=128,\n",
        "    warmup_steps=300,\n",
        "    weight_decay=0.01,\n",
        "    logging_dir='./logs',\n",
        "    evaluation_strategy='steps',\n",
        "    eval_steps=500,\n",
        "    save_total_limit=2,\n",
        "    save_steps=500,\n",
        "    load_best_model_at_end=True,\n",
        "    metric_for_best_model='f1',\n",
        "    greater_is_better=True,\n",
        ")\n",
        "\n",
        "\n",
        "trainer = Trainer(\n",
        "    model=model_bert,\n",
        "    args=training_args,\n",
        "    train_dataset=train_dataset,\n",
        "    eval_dataset=test_dataset,\n",
        "    compute_metrics=compute_f1_accuracy,\n",
        ")\n",
        "\n",
        "trainer.create_optimizer_and_scheduler(num_training_steps=len(train_dataset.labels) // training_args.per_device_train_batch_size * training_args.num_train_epochs)\n",
        "\n",
        "\n",
        "optimizer = trainer.optimizer\n",
        "num_training_steps = training_args.num_train_epochs * len(test_dataset.labels) // training_args.per_device_train_batch_size\n",
        "scheduler = get_scheduler(\n",
        "    \"linear\",\n",
        "    optimizer=optimizer,\n",
        "    num_warmup_steps=0,\n",
        "    num_training_steps=num_training_steps,\n",
        ")\n"
      ],
      "metadata": {
        "colab": {
          "base_uri": "https://localhost:8080/"
        },
        "id": "Tz_JmTKDjhix",
        "outputId": "a575a1cc-8c65-419d-ffc6-2002c3c96415"
      },
      "execution_count": null,
      "outputs": [
        {
          "output_type": "stream",
          "name": "stderr",
          "text": [
            "/usr/local/lib/python3.10/dist-packages/transformers/training_args.py:1525: FutureWarning: `evaluation_strategy` is deprecated and will be removed in version 4.46 of 🤗 Transformers. Use `eval_strategy` instead\n",
            "  warnings.warn(\n"
          ]
        }
      ]
    },
    {
      "cell_type": "code",
      "source": [
        "trainer.train()"
      ],
      "metadata": {
        "colab": {
          "base_uri": "https://localhost:8080/",
          "height": 232
        },
        "id": "ktaMp41vjZeh",
        "outputId": "f8e60efe-2328-4669-8777-25c84fa9414d"
      },
      "execution_count": null,
      "outputs": [
        {
          "output_type": "display_data",
          "data": {
            "text/plain": [
              "<IPython.core.display.HTML object>"
            ],
            "text/html": [
              "\n",
              "    <div>\n",
              "      \n",
              "      <progress value='2936' max='3750' style='width:300px; height:20px; vertical-align: middle;'></progress>\n",
              "      [2936/3750 1:34:00 < 26:04, 0.52 it/s, Epoch 2.35/3]\n",
              "    </div>\n",
              "    <table border=\"1\" class=\"dataframe\">\n",
              "  <thead>\n",
              " <tr style=\"text-align: left;\">\n",
              "      <th>Step</th>\n",
              "      <th>Training Loss</th>\n",
              "      <th>Validation Loss</th>\n",
              "      <th>F1</th>\n",
              "    </tr>\n",
              "  </thead>\n",
              "  <tbody>\n",
              "    <tr>\n",
              "      <td>500</td>\n",
              "      <td>1.615200</td>\n",
              "      <td>1.376326</td>\n",
              "      <td>0.348599</td>\n",
              "    </tr>\n",
              "    <tr>\n",
              "      <td>1000</td>\n",
              "      <td>1.382900</td>\n",
              "      <td>1.398479</td>\n",
              "      <td>0.378502</td>\n",
              "    </tr>\n",
              "    <tr>\n",
              "      <td>1500</td>\n",
              "      <td>1.278300</td>\n",
              "      <td>1.317840</td>\n",
              "      <td>0.427108</td>\n",
              "    </tr>\n",
              "    <tr>\n",
              "      <td>2000</td>\n",
              "      <td>1.189400</td>\n",
              "      <td>1.296966</td>\n",
              "      <td>0.436460</td>\n",
              "    </tr>\n",
              "    <tr>\n",
              "      <td>2500</td>\n",
              "      <td>1.173800</td>\n",
              "      <td>1.283805</td>\n",
              "      <td>0.437272</td>\n",
              "    </tr>\n",
              "  </tbody>\n",
              "</table><p>"
            ]
          },
          "metadata": {}
        }
      ]
    },
    {
      "cell_type": "code",
      "source": [
        "torch.save(model_bert, path_dir_to_save + 'model_bert_2')"
      ],
      "metadata": {
        "id": "lppDvQ9mkkKL"
      },
      "execution_count": null,
      "outputs": []
    },
    {
      "cell_type": "markdown",
      "source": [
        "## bert 3"
      ],
      "metadata": {
        "id": "21hjSfHVRhOw"
      }
    },
    {
      "cell_type": "code",
      "source": [
        "bert = 'bert-base-uncased'\n",
        "\n",
        "tokenizer_3 = BertTokenizer.from_pretrained(bert)\n",
        "model_bert_3 = BertForSequenceClassification.from_pretrained(bert, num_labels=len(df['rating'].unique()), ignore_mismatched_sizes=True)"
      ],
      "metadata": {
        "colab": {
          "base_uri": "https://localhost:8080/"
        },
        "outputId": "323ef3c7-7049-4a23-c8e6-b94cb981b390",
        "id": "3onSJR3dRiyk"
      },
      "execution_count": 90,
      "outputs": [
        {
          "output_type": "stream",
          "name": "stderr",
          "text": [
            "/usr/local/lib/python3.10/dist-packages/transformers/tokenization_utils_base.py:1601: FutureWarning: `clean_up_tokenization_spaces` was not set. It will be set to `True` by default. This behavior will be depracted in transformers v4.45, and will be then set to `False` by default. For more details check this issue: https://github.com/huggingface/transformers/issues/31884\n",
            "  warnings.warn(\n",
            "Some weights of BertForSequenceClassification were not initialized from the model checkpoint at bert-base-uncased and are newly initialized: ['classifier.bias', 'classifier.weight']\n",
            "You should probably TRAIN this model on a down-stream task to be able to use it for predictions and inference.\n"
          ]
        }
      ]
    },
    {
      "cell_type": "markdown",
      "source": [
        "заморозка половины весов"
      ],
      "metadata": {
        "id": "7pVU2-TTa6Oh"
      }
    },
    {
      "cell_type": "code",
      "source": [
        "train_text, test_text, y_train, y_test = train_test_split(df['text'], df['rating'], random_state=42, test_size=0.1, stratify=df['rating'])"
      ],
      "metadata": {
        "id": "JN73UF2kRiyk"
      },
      "execution_count": 69,
      "outputs": []
    },
    {
      "cell_type": "code",
      "source": [
        "MAX_LEN = 300\n",
        "\n",
        "X_train = tokenizer_3(train_text.tolist(), truncation='only_first', padding=True, max_length=MAX_LEN)\n",
        "X_test = tokenizer_3(test_text.tolist(), truncation='only_first', padding=True, max_length=MAX_LEN)"
      ],
      "metadata": {
        "id": "PQP1zr98Riyk"
      },
      "execution_count": 70,
      "outputs": []
    },
    {
      "cell_type": "code",
      "source": [
        "class CustomDataset(torch.utils.data.Dataset):\n",
        "    def __init__(self, encodings, labels):\n",
        "        self.encodings = encodings\n",
        "        self.labels = labels\n",
        "\n",
        "    def __getitem__(self, idx):\n",
        "        item = {key: torch.tensor(val[idx]) for key, val in self.encodings.items()}\n",
        "        item['labels'] = torch.tensor(self.labels[idx], dtype=torch.long)\n",
        "        return item\n",
        "\n",
        "    def __len__(self):\n",
        "        return len(self.labels)"
      ],
      "metadata": {
        "id": "vQcJyTp7UYvd"
      },
      "execution_count": 71,
      "outputs": []
    },
    {
      "cell_type": "code",
      "source": [
        "train_dataset = CustomDataset(X_train, y_train.to_list())\n",
        "test_dataset = CustomDataset(X_test, y_test.to_list())"
      ],
      "metadata": {
        "id": "ERItA7fTRiyl"
      },
      "execution_count": 73,
      "outputs": []
    },
    {
      "cell_type": "code",
      "source": [
        "training_args = TrainingArguments(\n",
        "    output_dir=path_dir_to_save + 'model_3_results',\n",
        "    num_train_epochs=4,\n",
        "    per_device_train_batch_size=32,\n",
        "    per_device_eval_batch_size=32,\n",
        "    warmup_steps=300,\n",
        "    weight_decay=0.01,\n",
        "    logging_dir='./logs',\n",
        "    eval_strategy='steps',\n",
        "    eval_steps=500,\n",
        "    save_total_limit=2,\n",
        "    save_steps=500,\n",
        "    load_best_model_at_end=True,\n",
        "    metric_for_best_model='f1',\n",
        "    greater_is_better=True,\n",
        ")\n",
        "\n",
        "num_training_steps = training_args.num_train_epochs * len(test_dataset.labels) // training_args.per_device_train_batch_size\n",
        "\n",
        "optimizer = AdamW(model_bert_3.parameters(), lr=5e-3)\n",
        "\n",
        "scheduler = get_cosine_with_hard_restarts_schedule_with_warmup(\n",
        "    optimizer,\n",
        "    num_warmup_steps=training_args.warmup_steps,\n",
        "    num_training_steps=num_training_steps,\n",
        "    num_cycles=1\n",
        ")\n",
        "\n",
        "trainer = Trainer(\n",
        "    model=model_bert_3,\n",
        "    args=training_args,\n",
        "    train_dataset=train_dataset,\n",
        "    eval_dataset=test_dataset,\n",
        "    optimizers=(optimizer, scheduler),\n",
        "    compute_metrics=compute_f1_accuracy,\n",
        ")"
      ],
      "metadata": {
        "colab": {
          "base_uri": "https://localhost:8080/"
        },
        "outputId": "197ae6ea-2966-485e-b4c5-c67ec2a1e188",
        "id": "vO-mXWM2Riyl"
      },
      "execution_count": 91,
      "outputs": [
        {
          "output_type": "stream",
          "name": "stderr",
          "text": [
            "/usr/local/lib/python3.10/dist-packages/transformers/optimization.py:591: FutureWarning: This implementation of AdamW is deprecated and will be removed in a future version. Use the PyTorch implementation torch.optim.AdamW instead, or set `no_deprecation_warning=True` to disable this warning\n",
            "  warnings.warn(\n"
          ]
        }
      ]
    },
    {
      "cell_type": "code",
      "source": [
        "trainer.train()"
      ],
      "metadata": {
        "id": "7BEFdr5mRiyl"
      },
      "execution_count": null,
      "outputs": []
    },
    {
      "cell_type": "code",
      "source": [
        "torch.save(model_bert_3, path_dir_to_save + 'model_bert_3')\n",
        "torch.save(tokenizer_3, path_dir_to_save + 'tokenizer_3')"
      ],
      "metadata": {
        "id": "_iGaHsbnRiyl"
      },
      "execution_count": null,
      "outputs": []
    }
  ],
  "metadata": {
    "colab": {
      "toc_visible": true,
      "provenance": [],
      "gpuType": "T4",
      "mount_file_id": "1YaFTSONpwmsgF86laa13yEbqbbu28y9A",
      "authorship_tag": "ABX9TyNQ9bt3wOyvbOHSSVU9MnP+",
      "include_colab_link": true
    },
    "kernelspec": {
      "display_name": "Python 3",
      "name": "python3"
    },
    "language_info": {
      "name": "python"
    },
    "widgets": {
      "application/vnd.jupyter.widget-state+json": {
        "0d421371631849c592ee5460d8c94471": {
          "model_module": "@jupyter-widgets/base",
          "model_module_version": "1.2.0",
          "model_name": "LayoutModel",
          "state": {
            "_model_module": "@jupyter-widgets/base",
            "_model_module_version": "1.2.0",
            "_model_name": "LayoutModel",
            "_view_count": null,
            "_view_module": "@jupyter-widgets/base",
            "_view_module_version": "1.2.0",
            "_view_name": "LayoutView",
            "align_content": null,
            "align_items": null,
            "align_self": null,
            "border": null,
            "bottom": null,
            "display": null,
            "flex": null,
            "flex_flow": null,
            "grid_area": null,
            "grid_auto_columns": null,
            "grid_auto_flow": null,
            "grid_auto_rows": null,
            "grid_column": null,
            "grid_gap": null,
            "grid_row": null,
            "grid_template_areas": null,
            "grid_template_columns": null,
            "grid_template_rows": null,
            "height": null,
            "justify_content": null,
            "justify_items": null,
            "left": null,
            "margin": null,
            "max_height": null,
            "max_width": null,
            "min_height": null,
            "min_width": null,
            "object_fit": null,
            "object_position": null,
            "order": null,
            "overflow": null,
            "overflow_x": null,
            "overflow_y": null,
            "padding": null,
            "right": null,
            "top": null,
            "visibility": null,
            "width": null
          }
        },
        "1f6723eaf49c430488e0efb6e9675b23": {
          "model_module": "@jupyter-widgets/base",
          "model_module_version": "1.2.0",
          "model_name": "LayoutModel",
          "state": {
            "_model_module": "@jupyter-widgets/base",
            "_model_module_version": "1.2.0",
            "_model_name": "LayoutModel",
            "_view_count": null,
            "_view_module": "@jupyter-widgets/base",
            "_view_module_version": "1.2.0",
            "_view_name": "LayoutView",
            "align_content": null,
            "align_items": null,
            "align_self": null,
            "border": null,
            "bottom": null,
            "display": null,
            "flex": null,
            "flex_flow": null,
            "grid_area": null,
            "grid_auto_columns": null,
            "grid_auto_flow": null,
            "grid_auto_rows": null,
            "grid_column": null,
            "grid_gap": null,
            "grid_row": null,
            "grid_template_areas": null,
            "grid_template_columns": null,
            "grid_template_rows": null,
            "height": null,
            "justify_content": null,
            "justify_items": null,
            "left": null,
            "margin": null,
            "max_height": null,
            "max_width": null,
            "min_height": null,
            "min_width": null,
            "object_fit": null,
            "object_position": null,
            "order": null,
            "overflow": null,
            "overflow_x": null,
            "overflow_y": null,
            "padding": null,
            "right": null,
            "top": null,
            "visibility": null,
            "width": null
          }
        },
        "3f2215c25a5a49548a75bb3042a71a4f": {
          "model_module": "@jupyter-widgets/controls",
          "model_module_version": "1.5.0",
          "model_name": "HTMLModel",
          "state": {
            "_dom_classes": [],
            "_model_module": "@jupyter-widgets/controls",
            "_model_module_version": "1.5.0",
            "_model_name": "HTMLModel",
            "_view_count": null,
            "_view_module": "@jupyter-widgets/controls",
            "_view_module_version": "1.5.0",
            "_view_name": "HTMLView",
            "description": "",
            "description_tooltip": null,
            "layout": "IPY_MODEL_1f6723eaf49c430488e0efb6e9675b23",
            "placeholder": "​",
            "style": "IPY_MODEL_60780eee05eb439ca35d01abc40bef82",
            "value": " 40000/40000 [00:42&lt;00:00, 1231.87it/s]"
          }
        },
        "4c258298795b466ca4274342623f1370": {
          "model_module": "@jupyter-widgets/controls",
          "model_module_version": "1.5.0",
          "model_name": "HTMLModel",
          "state": {
            "_dom_classes": [],
            "_model_module": "@jupyter-widgets/controls",
            "_model_module_version": "1.5.0",
            "_model_name": "HTMLModel",
            "_view_count": null,
            "_view_module": "@jupyter-widgets/controls",
            "_view_module_version": "1.5.0",
            "_view_name": "HTMLView",
            "description": "",
            "description_tooltip": null,
            "layout": "IPY_MODEL_0d421371631849c592ee5460d8c94471",
            "placeholder": "​",
            "style": "IPY_MODEL_be058ea89f2c4ed0a716cdc939468683",
            "value": "100%"
          }
        },
        "60780eee05eb439ca35d01abc40bef82": {
          "model_module": "@jupyter-widgets/controls",
          "model_module_version": "1.5.0",
          "model_name": "DescriptionStyleModel",
          "state": {
            "_model_module": "@jupyter-widgets/controls",
            "_model_module_version": "1.5.0",
            "_model_name": "DescriptionStyleModel",
            "_view_count": null,
            "_view_module": "@jupyter-widgets/base",
            "_view_module_version": "1.2.0",
            "_view_name": "StyleView",
            "description_width": ""
          }
        },
        "6c17a61cd7144d28bd90a3342f132425": {
          "model_module": "@jupyter-widgets/controls",
          "model_module_version": "1.5.0",
          "model_name": "HBoxModel",
          "state": {
            "_dom_classes": [],
            "_model_module": "@jupyter-widgets/controls",
            "_model_module_version": "1.5.0",
            "_model_name": "HBoxModel",
            "_view_count": null,
            "_view_module": "@jupyter-widgets/controls",
            "_view_module_version": "1.5.0",
            "_view_name": "HBoxView",
            "box_style": "",
            "children": [
              "IPY_MODEL_4c258298795b466ca4274342623f1370",
              "IPY_MODEL_946554beede44e49b99f67a00c0f22b6",
              "IPY_MODEL_3f2215c25a5a49548a75bb3042a71a4f"
            ],
            "layout": "IPY_MODEL_d469e9de7da246628c20f6fc74a4ce49"
          }
        },
        "946554beede44e49b99f67a00c0f22b6": {
          "model_module": "@jupyter-widgets/controls",
          "model_module_version": "1.5.0",
          "model_name": "FloatProgressModel",
          "state": {
            "_dom_classes": [],
            "_model_module": "@jupyter-widgets/controls",
            "_model_module_version": "1.5.0",
            "_model_name": "FloatProgressModel",
            "_view_count": null,
            "_view_module": "@jupyter-widgets/controls",
            "_view_module_version": "1.5.0",
            "_view_name": "ProgressView",
            "bar_style": "success",
            "description": "",
            "description_tooltip": null,
            "layout": "IPY_MODEL_a61b1efd5c104474bd96a9a404bee875",
            "max": 40000,
            "min": 0,
            "orientation": "horizontal",
            "style": "IPY_MODEL_abaca24d4bed4539869a8fdc308d0e1b",
            "value": 40000
          }
        },
        "a61b1efd5c104474bd96a9a404bee875": {
          "model_module": "@jupyter-widgets/base",
          "model_module_version": "1.2.0",
          "model_name": "LayoutModel",
          "state": {
            "_model_module": "@jupyter-widgets/base",
            "_model_module_version": "1.2.0",
            "_model_name": "LayoutModel",
            "_view_count": null,
            "_view_module": "@jupyter-widgets/base",
            "_view_module_version": "1.2.0",
            "_view_name": "LayoutView",
            "align_content": null,
            "align_items": null,
            "align_self": null,
            "border": null,
            "bottom": null,
            "display": null,
            "flex": null,
            "flex_flow": null,
            "grid_area": null,
            "grid_auto_columns": null,
            "grid_auto_flow": null,
            "grid_auto_rows": null,
            "grid_column": null,
            "grid_gap": null,
            "grid_row": null,
            "grid_template_areas": null,
            "grid_template_columns": null,
            "grid_template_rows": null,
            "height": null,
            "justify_content": null,
            "justify_items": null,
            "left": null,
            "margin": null,
            "max_height": null,
            "max_width": null,
            "min_height": null,
            "min_width": null,
            "object_fit": null,
            "object_position": null,
            "order": null,
            "overflow": null,
            "overflow_x": null,
            "overflow_y": null,
            "padding": null,
            "right": null,
            "top": null,
            "visibility": null,
            "width": null
          }
        },
        "abaca24d4bed4539869a8fdc308d0e1b": {
          "model_module": "@jupyter-widgets/controls",
          "model_module_version": "1.5.0",
          "model_name": "ProgressStyleModel",
          "state": {
            "_model_module": "@jupyter-widgets/controls",
            "_model_module_version": "1.5.0",
            "_model_name": "ProgressStyleModel",
            "_view_count": null,
            "_view_module": "@jupyter-widgets/base",
            "_view_module_version": "1.2.0",
            "_view_name": "StyleView",
            "bar_color": null,
            "description_width": ""
          }
        },
        "be058ea89f2c4ed0a716cdc939468683": {
          "model_module": "@jupyter-widgets/controls",
          "model_module_version": "1.5.0",
          "model_name": "DescriptionStyleModel",
          "state": {
            "_model_module": "@jupyter-widgets/controls",
            "_model_module_version": "1.5.0",
            "_model_name": "DescriptionStyleModel",
            "_view_count": null,
            "_view_module": "@jupyter-widgets/base",
            "_view_module_version": "1.2.0",
            "_view_name": "StyleView",
            "description_width": ""
          }
        },
        "d469e9de7da246628c20f6fc74a4ce49": {
          "model_module": "@jupyter-widgets/base",
          "model_module_version": "1.2.0",
          "model_name": "LayoutModel",
          "state": {
            "_model_module": "@jupyter-widgets/base",
            "_model_module_version": "1.2.0",
            "_model_name": "LayoutModel",
            "_view_count": null,
            "_view_module": "@jupyter-widgets/base",
            "_view_module_version": "1.2.0",
            "_view_name": "LayoutView",
            "align_content": null,
            "align_items": null,
            "align_self": null,
            "border": null,
            "bottom": null,
            "display": null,
            "flex": null,
            "flex_flow": null,
            "grid_area": null,
            "grid_auto_columns": null,
            "grid_auto_flow": null,
            "grid_auto_rows": null,
            "grid_column": null,
            "grid_gap": null,
            "grid_row": null,
            "grid_template_areas": null,
            "grid_template_columns": null,
            "grid_template_rows": null,
            "height": null,
            "justify_content": null,
            "justify_items": null,
            "left": null,
            "margin": null,
            "max_height": null,
            "max_width": null,
            "min_height": null,
            "min_width": null,
            "object_fit": null,
            "object_position": null,
            "order": null,
            "overflow": null,
            "overflow_x": null,
            "overflow_y": null,
            "padding": null,
            "right": null,
            "top": null,
            "visibility": null,
            "width": null
          }
        },
        "0cc3dd562c3e40038975a737a1996e7d": {
          "model_module": "@jupyter-widgets/controls",
          "model_name": "HBoxModel",
          "model_module_version": "1.5.0",
          "state": {
            "_dom_classes": [],
            "_model_module": "@jupyter-widgets/controls",
            "_model_module_version": "1.5.0",
            "_model_name": "HBoxModel",
            "_view_count": null,
            "_view_module": "@jupyter-widgets/controls",
            "_view_module_version": "1.5.0",
            "_view_name": "HBoxView",
            "box_style": "",
            "children": [
              "IPY_MODEL_370582ac371f4cc4863c0806a0497c31",
              "IPY_MODEL_cc599936abfa4a8cb5e792b65c413c78",
              "IPY_MODEL_ea87d91af2be4597aede4cf99f94e28b"
            ],
            "layout": "IPY_MODEL_1e93cd7958ce4d5d9d4e03d0700b048a"
          }
        },
        "370582ac371f4cc4863c0806a0497c31": {
          "model_module": "@jupyter-widgets/controls",
          "model_name": "HTMLModel",
          "model_module_version": "1.5.0",
          "state": {
            "_dom_classes": [],
            "_model_module": "@jupyter-widgets/controls",
            "_model_module_version": "1.5.0",
            "_model_name": "HTMLModel",
            "_view_count": null,
            "_view_module": "@jupyter-widgets/controls",
            "_view_module_version": "1.5.0",
            "_view_name": "HTMLView",
            "description": "",
            "description_tooltip": null,
            "layout": "IPY_MODEL_4e29c0e0d4b246cc88aa8063e66d6885",
            "placeholder": "​",
            "style": "IPY_MODEL_5ff86a0a07944d35a5960eb328042c40",
            "value": "100%"
          }
        },
        "cc599936abfa4a8cb5e792b65c413c78": {
          "model_module": "@jupyter-widgets/controls",
          "model_name": "FloatProgressModel",
          "model_module_version": "1.5.0",
          "state": {
            "_dom_classes": [],
            "_model_module": "@jupyter-widgets/controls",
            "_model_module_version": "1.5.0",
            "_model_name": "FloatProgressModel",
            "_view_count": null,
            "_view_module": "@jupyter-widgets/controls",
            "_view_module_version": "1.5.0",
            "_view_name": "ProgressView",
            "bar_style": "success",
            "description": "",
            "description_tooltip": null,
            "layout": "IPY_MODEL_edae45a3432f438888e752043384fb24",
            "max": 1000,
            "min": 0,
            "orientation": "horizontal",
            "style": "IPY_MODEL_681ab34104c849a9beb70e63484de51b",
            "value": 1000
          }
        },
        "ea87d91af2be4597aede4cf99f94e28b": {
          "model_module": "@jupyter-widgets/controls",
          "model_name": "HTMLModel",
          "model_module_version": "1.5.0",
          "state": {
            "_dom_classes": [],
            "_model_module": "@jupyter-widgets/controls",
            "_model_module_version": "1.5.0",
            "_model_name": "HTMLModel",
            "_view_count": null,
            "_view_module": "@jupyter-widgets/controls",
            "_view_module_version": "1.5.0",
            "_view_name": "HTMLView",
            "description": "",
            "description_tooltip": null,
            "layout": "IPY_MODEL_be5cf1a6e17740cb964e5b69e5ef1be4",
            "placeholder": "​",
            "style": "IPY_MODEL_72c476d46e8f4cf09f289d47e1ef0fd4",
            "value": " 1000/1000 [12:27&lt;00:00,  1.13it/s]"
          }
        },
        "1e93cd7958ce4d5d9d4e03d0700b048a": {
          "model_module": "@jupyter-widgets/base",
          "model_name": "LayoutModel",
          "model_module_version": "1.2.0",
          "state": {
            "_model_module": "@jupyter-widgets/base",
            "_model_module_version": "1.2.0",
            "_model_name": "LayoutModel",
            "_view_count": null,
            "_view_module": "@jupyter-widgets/base",
            "_view_module_version": "1.2.0",
            "_view_name": "LayoutView",
            "align_content": null,
            "align_items": null,
            "align_self": null,
            "border": null,
            "bottom": null,
            "display": null,
            "flex": null,
            "flex_flow": null,
            "grid_area": null,
            "grid_auto_columns": null,
            "grid_auto_flow": null,
            "grid_auto_rows": null,
            "grid_column": null,
            "grid_gap": null,
            "grid_row": null,
            "grid_template_areas": null,
            "grid_template_columns": null,
            "grid_template_rows": null,
            "height": null,
            "justify_content": null,
            "justify_items": null,
            "left": null,
            "margin": null,
            "max_height": null,
            "max_width": null,
            "min_height": null,
            "min_width": null,
            "object_fit": null,
            "object_position": null,
            "order": null,
            "overflow": null,
            "overflow_x": null,
            "overflow_y": null,
            "padding": null,
            "right": null,
            "top": null,
            "visibility": null,
            "width": null
          }
        },
        "4e29c0e0d4b246cc88aa8063e66d6885": {
          "model_module": "@jupyter-widgets/base",
          "model_name": "LayoutModel",
          "model_module_version": "1.2.0",
          "state": {
            "_model_module": "@jupyter-widgets/base",
            "_model_module_version": "1.2.0",
            "_model_name": "LayoutModel",
            "_view_count": null,
            "_view_module": "@jupyter-widgets/base",
            "_view_module_version": "1.2.0",
            "_view_name": "LayoutView",
            "align_content": null,
            "align_items": null,
            "align_self": null,
            "border": null,
            "bottom": null,
            "display": null,
            "flex": null,
            "flex_flow": null,
            "grid_area": null,
            "grid_auto_columns": null,
            "grid_auto_flow": null,
            "grid_auto_rows": null,
            "grid_column": null,
            "grid_gap": null,
            "grid_row": null,
            "grid_template_areas": null,
            "grid_template_columns": null,
            "grid_template_rows": null,
            "height": null,
            "justify_content": null,
            "justify_items": null,
            "left": null,
            "margin": null,
            "max_height": null,
            "max_width": null,
            "min_height": null,
            "min_width": null,
            "object_fit": null,
            "object_position": null,
            "order": null,
            "overflow": null,
            "overflow_x": null,
            "overflow_y": null,
            "padding": null,
            "right": null,
            "top": null,
            "visibility": null,
            "width": null
          }
        },
        "5ff86a0a07944d35a5960eb328042c40": {
          "model_module": "@jupyter-widgets/controls",
          "model_name": "DescriptionStyleModel",
          "model_module_version": "1.5.0",
          "state": {
            "_model_module": "@jupyter-widgets/controls",
            "_model_module_version": "1.5.0",
            "_model_name": "DescriptionStyleModel",
            "_view_count": null,
            "_view_module": "@jupyter-widgets/base",
            "_view_module_version": "1.2.0",
            "_view_name": "StyleView",
            "description_width": ""
          }
        },
        "edae45a3432f438888e752043384fb24": {
          "model_module": "@jupyter-widgets/base",
          "model_name": "LayoutModel",
          "model_module_version": "1.2.0",
          "state": {
            "_model_module": "@jupyter-widgets/base",
            "_model_module_version": "1.2.0",
            "_model_name": "LayoutModel",
            "_view_count": null,
            "_view_module": "@jupyter-widgets/base",
            "_view_module_version": "1.2.0",
            "_view_name": "LayoutView",
            "align_content": null,
            "align_items": null,
            "align_self": null,
            "border": null,
            "bottom": null,
            "display": null,
            "flex": null,
            "flex_flow": null,
            "grid_area": null,
            "grid_auto_columns": null,
            "grid_auto_flow": null,
            "grid_auto_rows": null,
            "grid_column": null,
            "grid_gap": null,
            "grid_row": null,
            "grid_template_areas": null,
            "grid_template_columns": null,
            "grid_template_rows": null,
            "height": null,
            "justify_content": null,
            "justify_items": null,
            "left": null,
            "margin": null,
            "max_height": null,
            "max_width": null,
            "min_height": null,
            "min_width": null,
            "object_fit": null,
            "object_position": null,
            "order": null,
            "overflow": null,
            "overflow_x": null,
            "overflow_y": null,
            "padding": null,
            "right": null,
            "top": null,
            "visibility": null,
            "width": null
          }
        },
        "681ab34104c849a9beb70e63484de51b": {
          "model_module": "@jupyter-widgets/controls",
          "model_name": "ProgressStyleModel",
          "model_module_version": "1.5.0",
          "state": {
            "_model_module": "@jupyter-widgets/controls",
            "_model_module_version": "1.5.0",
            "_model_name": "ProgressStyleModel",
            "_view_count": null,
            "_view_module": "@jupyter-widgets/base",
            "_view_module_version": "1.2.0",
            "_view_name": "StyleView",
            "bar_color": null,
            "description_width": ""
          }
        },
        "be5cf1a6e17740cb964e5b69e5ef1be4": {
          "model_module": "@jupyter-widgets/base",
          "model_name": "LayoutModel",
          "model_module_version": "1.2.0",
          "state": {
            "_model_module": "@jupyter-widgets/base",
            "_model_module_version": "1.2.0",
            "_model_name": "LayoutModel",
            "_view_count": null,
            "_view_module": "@jupyter-widgets/base",
            "_view_module_version": "1.2.0",
            "_view_name": "LayoutView",
            "align_content": null,
            "align_items": null,
            "align_self": null,
            "border": null,
            "bottom": null,
            "display": null,
            "flex": null,
            "flex_flow": null,
            "grid_area": null,
            "grid_auto_columns": null,
            "grid_auto_flow": null,
            "grid_auto_rows": null,
            "grid_column": null,
            "grid_gap": null,
            "grid_row": null,
            "grid_template_areas": null,
            "grid_template_columns": null,
            "grid_template_rows": null,
            "height": null,
            "justify_content": null,
            "justify_items": null,
            "left": null,
            "margin": null,
            "max_height": null,
            "max_width": null,
            "min_height": null,
            "min_width": null,
            "object_fit": null,
            "object_position": null,
            "order": null,
            "overflow": null,
            "overflow_x": null,
            "overflow_y": null,
            "padding": null,
            "right": null,
            "top": null,
            "visibility": null,
            "width": null
          }
        },
        "72c476d46e8f4cf09f289d47e1ef0fd4": {
          "model_module": "@jupyter-widgets/controls",
          "model_name": "DescriptionStyleModel",
          "model_module_version": "1.5.0",
          "state": {
            "_model_module": "@jupyter-widgets/controls",
            "_model_module_version": "1.5.0",
            "_model_name": "DescriptionStyleModel",
            "_view_count": null,
            "_view_module": "@jupyter-widgets/base",
            "_view_module_version": "1.2.0",
            "_view_name": "StyleView",
            "description_width": ""
          }
        },
        "3bbb839938b14490822093ac94353d2a": {
          "model_module": "@jupyter-widgets/controls",
          "model_name": "HBoxModel",
          "model_module_version": "1.5.0",
          "state": {
            "_dom_classes": [],
            "_model_module": "@jupyter-widgets/controls",
            "_model_module_version": "1.5.0",
            "_model_name": "HBoxModel",
            "_view_count": null,
            "_view_module": "@jupyter-widgets/controls",
            "_view_module_version": "1.5.0",
            "_view_name": "HBoxView",
            "box_style": "",
            "children": [
              "IPY_MODEL_ea7056edb9aa4854a5ec0bb0a711c0b2",
              "IPY_MODEL_d7bd1607e6c2463cbed6864c1bbf48c1",
              "IPY_MODEL_e4b1c4ee699b40b4ae7a9434dd69a090"
            ],
            "layout": "IPY_MODEL_6e8be5f40b324546a63693a438321c0f"
          }
        },
        "ea7056edb9aa4854a5ec0bb0a711c0b2": {
          "model_module": "@jupyter-widgets/controls",
          "model_name": "HTMLModel",
          "model_module_version": "1.5.0",
          "state": {
            "_dom_classes": [],
            "_model_module": "@jupyter-widgets/controls",
            "_model_module_version": "1.5.0",
            "_model_name": "HTMLModel",
            "_view_count": null,
            "_view_module": "@jupyter-widgets/controls",
            "_view_module_version": "1.5.0",
            "_view_name": "HTMLView",
            "description": "",
            "description_tooltip": null,
            "layout": "IPY_MODEL_e5f0b1c0691640c298768b4b1d227f4a",
            "placeholder": "​",
            "style": "IPY_MODEL_77a400eb70d44731bfc5638da1499c45",
            "value": "model.safetensors: 100%"
          }
        },
        "d7bd1607e6c2463cbed6864c1bbf48c1": {
          "model_module": "@jupyter-widgets/controls",
          "model_name": "FloatProgressModel",
          "model_module_version": "1.5.0",
          "state": {
            "_dom_classes": [],
            "_model_module": "@jupyter-widgets/controls",
            "_model_module_version": "1.5.0",
            "_model_name": "FloatProgressModel",
            "_view_count": null,
            "_view_module": "@jupyter-widgets/controls",
            "_view_module_version": "1.5.0",
            "_view_name": "ProgressView",
            "bar_style": "success",
            "description": "",
            "description_tooltip": null,
            "layout": "IPY_MODEL_3229e4ace88f41e29b297b41b56e7ef1",
            "max": 440449768,
            "min": 0,
            "orientation": "horizontal",
            "style": "IPY_MODEL_bcb7ac8004d14bdeab6f9af0d29557d1",
            "value": 440449768
          }
        },
        "e4b1c4ee699b40b4ae7a9434dd69a090": {
          "model_module": "@jupyter-widgets/controls",
          "model_name": "HTMLModel",
          "model_module_version": "1.5.0",
          "state": {
            "_dom_classes": [],
            "_model_module": "@jupyter-widgets/controls",
            "_model_module_version": "1.5.0",
            "_model_name": "HTMLModel",
            "_view_count": null,
            "_view_module": "@jupyter-widgets/controls",
            "_view_module_version": "1.5.0",
            "_view_name": "HTMLView",
            "description": "",
            "description_tooltip": null,
            "layout": "IPY_MODEL_426c970151d247e68fa0f5edaaf8dc29",
            "placeholder": "​",
            "style": "IPY_MODEL_fb0ffd73edd44e1990e174c0d23b7dd0",
            "value": " 440M/440M [00:03&lt;00:00, 151MB/s]"
          }
        },
        "6e8be5f40b324546a63693a438321c0f": {
          "model_module": "@jupyter-widgets/base",
          "model_name": "LayoutModel",
          "model_module_version": "1.2.0",
          "state": {
            "_model_module": "@jupyter-widgets/base",
            "_model_module_version": "1.2.0",
            "_model_name": "LayoutModel",
            "_view_count": null,
            "_view_module": "@jupyter-widgets/base",
            "_view_module_version": "1.2.0",
            "_view_name": "LayoutView",
            "align_content": null,
            "align_items": null,
            "align_self": null,
            "border": null,
            "bottom": null,
            "display": null,
            "flex": null,
            "flex_flow": null,
            "grid_area": null,
            "grid_auto_columns": null,
            "grid_auto_flow": null,
            "grid_auto_rows": null,
            "grid_column": null,
            "grid_gap": null,
            "grid_row": null,
            "grid_template_areas": null,
            "grid_template_columns": null,
            "grid_template_rows": null,
            "height": null,
            "justify_content": null,
            "justify_items": null,
            "left": null,
            "margin": null,
            "max_height": null,
            "max_width": null,
            "min_height": null,
            "min_width": null,
            "object_fit": null,
            "object_position": null,
            "order": null,
            "overflow": null,
            "overflow_x": null,
            "overflow_y": null,
            "padding": null,
            "right": null,
            "top": null,
            "visibility": null,
            "width": null
          }
        },
        "e5f0b1c0691640c298768b4b1d227f4a": {
          "model_module": "@jupyter-widgets/base",
          "model_name": "LayoutModel",
          "model_module_version": "1.2.0",
          "state": {
            "_model_module": "@jupyter-widgets/base",
            "_model_module_version": "1.2.0",
            "_model_name": "LayoutModel",
            "_view_count": null,
            "_view_module": "@jupyter-widgets/base",
            "_view_module_version": "1.2.0",
            "_view_name": "LayoutView",
            "align_content": null,
            "align_items": null,
            "align_self": null,
            "border": null,
            "bottom": null,
            "display": null,
            "flex": null,
            "flex_flow": null,
            "grid_area": null,
            "grid_auto_columns": null,
            "grid_auto_flow": null,
            "grid_auto_rows": null,
            "grid_column": null,
            "grid_gap": null,
            "grid_row": null,
            "grid_template_areas": null,
            "grid_template_columns": null,
            "grid_template_rows": null,
            "height": null,
            "justify_content": null,
            "justify_items": null,
            "left": null,
            "margin": null,
            "max_height": null,
            "max_width": null,
            "min_height": null,
            "min_width": null,
            "object_fit": null,
            "object_position": null,
            "order": null,
            "overflow": null,
            "overflow_x": null,
            "overflow_y": null,
            "padding": null,
            "right": null,
            "top": null,
            "visibility": null,
            "width": null
          }
        },
        "77a400eb70d44731bfc5638da1499c45": {
          "model_module": "@jupyter-widgets/controls",
          "model_name": "DescriptionStyleModel",
          "model_module_version": "1.5.0",
          "state": {
            "_model_module": "@jupyter-widgets/controls",
            "_model_module_version": "1.5.0",
            "_model_name": "DescriptionStyleModel",
            "_view_count": null,
            "_view_module": "@jupyter-widgets/base",
            "_view_module_version": "1.2.0",
            "_view_name": "StyleView",
            "description_width": ""
          }
        },
        "3229e4ace88f41e29b297b41b56e7ef1": {
          "model_module": "@jupyter-widgets/base",
          "model_name": "LayoutModel",
          "model_module_version": "1.2.0",
          "state": {
            "_model_module": "@jupyter-widgets/base",
            "_model_module_version": "1.2.0",
            "_model_name": "LayoutModel",
            "_view_count": null,
            "_view_module": "@jupyter-widgets/base",
            "_view_module_version": "1.2.0",
            "_view_name": "LayoutView",
            "align_content": null,
            "align_items": null,
            "align_self": null,
            "border": null,
            "bottom": null,
            "display": null,
            "flex": null,
            "flex_flow": null,
            "grid_area": null,
            "grid_auto_columns": null,
            "grid_auto_flow": null,
            "grid_auto_rows": null,
            "grid_column": null,
            "grid_gap": null,
            "grid_row": null,
            "grid_template_areas": null,
            "grid_template_columns": null,
            "grid_template_rows": null,
            "height": null,
            "justify_content": null,
            "justify_items": null,
            "left": null,
            "margin": null,
            "max_height": null,
            "max_width": null,
            "min_height": null,
            "min_width": null,
            "object_fit": null,
            "object_position": null,
            "order": null,
            "overflow": null,
            "overflow_x": null,
            "overflow_y": null,
            "padding": null,
            "right": null,
            "top": null,
            "visibility": null,
            "width": null
          }
        },
        "bcb7ac8004d14bdeab6f9af0d29557d1": {
          "model_module": "@jupyter-widgets/controls",
          "model_name": "ProgressStyleModel",
          "model_module_version": "1.5.0",
          "state": {
            "_model_module": "@jupyter-widgets/controls",
            "_model_module_version": "1.5.0",
            "_model_name": "ProgressStyleModel",
            "_view_count": null,
            "_view_module": "@jupyter-widgets/base",
            "_view_module_version": "1.2.0",
            "_view_name": "StyleView",
            "bar_color": null,
            "description_width": ""
          }
        },
        "426c970151d247e68fa0f5edaaf8dc29": {
          "model_module": "@jupyter-widgets/base",
          "model_name": "LayoutModel",
          "model_module_version": "1.2.0",
          "state": {
            "_model_module": "@jupyter-widgets/base",
            "_model_module_version": "1.2.0",
            "_model_name": "LayoutModel",
            "_view_count": null,
            "_view_module": "@jupyter-widgets/base",
            "_view_module_version": "1.2.0",
            "_view_name": "LayoutView",
            "align_content": null,
            "align_items": null,
            "align_self": null,
            "border": null,
            "bottom": null,
            "display": null,
            "flex": null,
            "flex_flow": null,
            "grid_area": null,
            "grid_auto_columns": null,
            "grid_auto_flow": null,
            "grid_auto_rows": null,
            "grid_column": null,
            "grid_gap": null,
            "grid_row": null,
            "grid_template_areas": null,
            "grid_template_columns": null,
            "grid_template_rows": null,
            "height": null,
            "justify_content": null,
            "justify_items": null,
            "left": null,
            "margin": null,
            "max_height": null,
            "max_width": null,
            "min_height": null,
            "min_width": null,
            "object_fit": null,
            "object_position": null,
            "order": null,
            "overflow": null,
            "overflow_x": null,
            "overflow_y": null,
            "padding": null,
            "right": null,
            "top": null,
            "visibility": null,
            "width": null
          }
        },
        "fb0ffd73edd44e1990e174c0d23b7dd0": {
          "model_module": "@jupyter-widgets/controls",
          "model_name": "DescriptionStyleModel",
          "model_module_version": "1.5.0",
          "state": {
            "_model_module": "@jupyter-widgets/controls",
            "_model_module_version": "1.5.0",
            "_model_name": "DescriptionStyleModel",
            "_view_count": null,
            "_view_module": "@jupyter-widgets/base",
            "_view_module_version": "1.2.0",
            "_view_name": "StyleView",
            "description_width": ""
          }
        }
      }
    },
    "accelerator": "GPU"
  },
  "nbformat": 4,
  "nbformat_minor": 0
}